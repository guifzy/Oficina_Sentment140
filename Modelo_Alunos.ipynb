{
  "nbformat": 4,
  "nbformat_minor": 0,
  "metadata": {
    "colab": {
      "provenance": [],
      "toc_visible": true,
      "authorship_tag": "ABX9TyP8KTO7LnnsxdBciSsvPwkc",
      "include_colab_link": true
    },
    "kernelspec": {
      "name": "python3",
      "display_name": "Python 3"
    },
    "language_info": {
      "name": "python"
    }
  },
  "cells": [
    {
      "cell_type": "markdown",
      "metadata": {
        "id": "view-in-github",
        "colab_type": "text"
      },
      "source": [
        "<a href=\"https://colab.research.google.com/github/guifzy/Oficina_Sentment140/blob/main/Modelo_Alunos.ipynb\" target=\"_parent\"><img src=\"https://colab.research.google.com/assets/colab-badge.svg\" alt=\"Open In Colab\"/></a>"
      ]
    },
    {
      "cell_type": "markdown",
      "source": [
        "# Intro"
      ],
      "metadata": {
        "id": "X_iDhZKgNFdh"
      }
    },
    {
      "cell_type": "markdown",
      "source": [
        "- O que é um DataFrame\n",
        "\n",
        "- O que é o pandas? E para que serve?\n",
        "\n",
        "- Príncipais comandos no pandas:\n"
      ],
      "metadata": {
        "id": "apX3u61XanzD"
      }
    },
    {
      "cell_type": "markdown",
      "source": [
        "# Aula 2/3"
      ],
      "metadata": {
        "id": "RSEA4YhBR215"
      }
    },
    {
      "cell_type": "code",
      "source": [
        "import seaborn as sns\n",
        "import pandas as pd\n",
        "\n",
        "# Carregar o DataFrame Titanic\n",
        "df = sns.load_dataset('titanic')\n",
        "\n",
        "# Exibir as primeiras linhas do DataFrame\n",
        "df.head()"
      ],
      "metadata": {
        "colab": {
          "base_uri": "https://localhost:8080/",
          "height": 206
        },
        "id": "KSed04-LU6WM",
        "outputId": "3d61976c-b39a-42de-cb52-31982c96ee9f"
      },
      "execution_count": null,
      "outputs": [
        {
          "output_type": "execute_result",
          "data": {
            "text/plain": [
              "   survived  pclass     sex   age  sibsp  parch     fare embarked  class  \\\n",
              "0         0       3    male  22.0      1      0   7.2500        S  Third   \n",
              "1         1       1  female  38.0      1      0  71.2833        C  First   \n",
              "2         1       3  female  26.0      0      0   7.9250        S  Third   \n",
              "3         1       1  female  35.0      1      0  53.1000        S  First   \n",
              "4         0       3    male  35.0      0      0   8.0500        S  Third   \n",
              "\n",
              "     who  adult_male deck  embark_town alive  alone  \n",
              "0    man        True  NaN  Southampton    no  False  \n",
              "1  woman       False    C    Cherbourg   yes  False  \n",
              "2  woman       False  NaN  Southampton   yes   True  \n",
              "3  woman       False    C  Southampton   yes  False  \n",
              "4    man        True  NaN  Southampton    no   True  "
            ],
            "text/html": [
              "\n",
              "  <div id=\"df-5c6ba217-9708-4451-93aa-0d983452b27f\" class=\"colab-df-container\">\n",
              "    <div>\n",
              "<style scoped>\n",
              "    .dataframe tbody tr th:only-of-type {\n",
              "        vertical-align: middle;\n",
              "    }\n",
              "\n",
              "    .dataframe tbody tr th {\n",
              "        vertical-align: top;\n",
              "    }\n",
              "\n",
              "    .dataframe thead th {\n",
              "        text-align: right;\n",
              "    }\n",
              "</style>\n",
              "<table border=\"1\" class=\"dataframe\">\n",
              "  <thead>\n",
              "    <tr style=\"text-align: right;\">\n",
              "      <th></th>\n",
              "      <th>survived</th>\n",
              "      <th>pclass</th>\n",
              "      <th>sex</th>\n",
              "      <th>age</th>\n",
              "      <th>sibsp</th>\n",
              "      <th>parch</th>\n",
              "      <th>fare</th>\n",
              "      <th>embarked</th>\n",
              "      <th>class</th>\n",
              "      <th>who</th>\n",
              "      <th>adult_male</th>\n",
              "      <th>deck</th>\n",
              "      <th>embark_town</th>\n",
              "      <th>alive</th>\n",
              "      <th>alone</th>\n",
              "    </tr>\n",
              "  </thead>\n",
              "  <tbody>\n",
              "    <tr>\n",
              "      <th>0</th>\n",
              "      <td>0</td>\n",
              "      <td>3</td>\n",
              "      <td>male</td>\n",
              "      <td>22.0</td>\n",
              "      <td>1</td>\n",
              "      <td>0</td>\n",
              "      <td>7.2500</td>\n",
              "      <td>S</td>\n",
              "      <td>Third</td>\n",
              "      <td>man</td>\n",
              "      <td>True</td>\n",
              "      <td>NaN</td>\n",
              "      <td>Southampton</td>\n",
              "      <td>no</td>\n",
              "      <td>False</td>\n",
              "    </tr>\n",
              "    <tr>\n",
              "      <th>1</th>\n",
              "      <td>1</td>\n",
              "      <td>1</td>\n",
              "      <td>female</td>\n",
              "      <td>38.0</td>\n",
              "      <td>1</td>\n",
              "      <td>0</td>\n",
              "      <td>71.2833</td>\n",
              "      <td>C</td>\n",
              "      <td>First</td>\n",
              "      <td>woman</td>\n",
              "      <td>False</td>\n",
              "      <td>C</td>\n",
              "      <td>Cherbourg</td>\n",
              "      <td>yes</td>\n",
              "      <td>False</td>\n",
              "    </tr>\n",
              "    <tr>\n",
              "      <th>2</th>\n",
              "      <td>1</td>\n",
              "      <td>3</td>\n",
              "      <td>female</td>\n",
              "      <td>26.0</td>\n",
              "      <td>0</td>\n",
              "      <td>0</td>\n",
              "      <td>7.9250</td>\n",
              "      <td>S</td>\n",
              "      <td>Third</td>\n",
              "      <td>woman</td>\n",
              "      <td>False</td>\n",
              "      <td>NaN</td>\n",
              "      <td>Southampton</td>\n",
              "      <td>yes</td>\n",
              "      <td>True</td>\n",
              "    </tr>\n",
              "    <tr>\n",
              "      <th>3</th>\n",
              "      <td>1</td>\n",
              "      <td>1</td>\n",
              "      <td>female</td>\n",
              "      <td>35.0</td>\n",
              "      <td>1</td>\n",
              "      <td>0</td>\n",
              "      <td>53.1000</td>\n",
              "      <td>S</td>\n",
              "      <td>First</td>\n",
              "      <td>woman</td>\n",
              "      <td>False</td>\n",
              "      <td>C</td>\n",
              "      <td>Southampton</td>\n",
              "      <td>yes</td>\n",
              "      <td>False</td>\n",
              "    </tr>\n",
              "    <tr>\n",
              "      <th>4</th>\n",
              "      <td>0</td>\n",
              "      <td>3</td>\n",
              "      <td>male</td>\n",
              "      <td>35.0</td>\n",
              "      <td>0</td>\n",
              "      <td>0</td>\n",
              "      <td>8.0500</td>\n",
              "      <td>S</td>\n",
              "      <td>Third</td>\n",
              "      <td>man</td>\n",
              "      <td>True</td>\n",
              "      <td>NaN</td>\n",
              "      <td>Southampton</td>\n",
              "      <td>no</td>\n",
              "      <td>True</td>\n",
              "    </tr>\n",
              "  </tbody>\n",
              "</table>\n",
              "</div>\n",
              "    <div class=\"colab-df-buttons\">\n",
              "\n",
              "  <div class=\"colab-df-container\">\n",
              "    <button class=\"colab-df-convert\" onclick=\"convertToInteractive('df-5c6ba217-9708-4451-93aa-0d983452b27f')\"\n",
              "            title=\"Convert this dataframe to an interactive table.\"\n",
              "            style=\"display:none;\">\n",
              "\n",
              "  <svg xmlns=\"http://www.w3.org/2000/svg\" height=\"24px\" viewBox=\"0 -960 960 960\">\n",
              "    <path d=\"M120-120v-720h720v720H120Zm60-500h600v-160H180v160Zm220 220h160v-160H400v160Zm0 220h160v-160H400v160ZM180-400h160v-160H180v160Zm440 0h160v-160H620v160ZM180-180h160v-160H180v160Zm440 0h160v-160H620v160Z\"/>\n",
              "  </svg>\n",
              "    </button>\n",
              "\n",
              "  <style>\n",
              "    .colab-df-container {\n",
              "      display:flex;\n",
              "      gap: 12px;\n",
              "    }\n",
              "\n",
              "    .colab-df-convert {\n",
              "      background-color: #E8F0FE;\n",
              "      border: none;\n",
              "      border-radius: 50%;\n",
              "      cursor: pointer;\n",
              "      display: none;\n",
              "      fill: #1967D2;\n",
              "      height: 32px;\n",
              "      padding: 0 0 0 0;\n",
              "      width: 32px;\n",
              "    }\n",
              "\n",
              "    .colab-df-convert:hover {\n",
              "      background-color: #E2EBFA;\n",
              "      box-shadow: 0px 1px 2px rgba(60, 64, 67, 0.3), 0px 1px 3px 1px rgba(60, 64, 67, 0.15);\n",
              "      fill: #174EA6;\n",
              "    }\n",
              "\n",
              "    .colab-df-buttons div {\n",
              "      margin-bottom: 4px;\n",
              "    }\n",
              "\n",
              "    [theme=dark] .colab-df-convert {\n",
              "      background-color: #3B4455;\n",
              "      fill: #D2E3FC;\n",
              "    }\n",
              "\n",
              "    [theme=dark] .colab-df-convert:hover {\n",
              "      background-color: #434B5C;\n",
              "      box-shadow: 0px 1px 3px 1px rgba(0, 0, 0, 0.15);\n",
              "      filter: drop-shadow(0px 1px 2px rgba(0, 0, 0, 0.3));\n",
              "      fill: #FFFFFF;\n",
              "    }\n",
              "  </style>\n",
              "\n",
              "    <script>\n",
              "      const buttonEl =\n",
              "        document.querySelector('#df-5c6ba217-9708-4451-93aa-0d983452b27f button.colab-df-convert');\n",
              "      buttonEl.style.display =\n",
              "        google.colab.kernel.accessAllowed ? 'block' : 'none';\n",
              "\n",
              "      async function convertToInteractive(key) {\n",
              "        const element = document.querySelector('#df-5c6ba217-9708-4451-93aa-0d983452b27f');\n",
              "        const dataTable =\n",
              "          await google.colab.kernel.invokeFunction('convertToInteractive',\n",
              "                                                    [key], {});\n",
              "        if (!dataTable) return;\n",
              "\n",
              "        const docLinkHtml = 'Like what you see? Visit the ' +\n",
              "          '<a target=\"_blank\" href=https://colab.research.google.com/notebooks/data_table.ipynb>data table notebook</a>'\n",
              "          + ' to learn more about interactive tables.';\n",
              "        element.innerHTML = '';\n",
              "        dataTable['output_type'] = 'display_data';\n",
              "        await google.colab.output.renderOutput(dataTable, element);\n",
              "        const docLink = document.createElement('div');\n",
              "        docLink.innerHTML = docLinkHtml;\n",
              "        element.appendChild(docLink);\n",
              "      }\n",
              "    </script>\n",
              "  </div>\n",
              "\n",
              "\n",
              "<div id=\"df-3e51e4f0-b882-4214-9d10-c1f7c4f5963c\">\n",
              "  <button class=\"colab-df-quickchart\" onclick=\"quickchart('df-3e51e4f0-b882-4214-9d10-c1f7c4f5963c')\"\n",
              "            title=\"Suggest charts\"\n",
              "            style=\"display:none;\">\n",
              "\n",
              "<svg xmlns=\"http://www.w3.org/2000/svg\" height=\"24px\"viewBox=\"0 0 24 24\"\n",
              "     width=\"24px\">\n",
              "    <g>\n",
              "        <path d=\"M19 3H5c-1.1 0-2 .9-2 2v14c0 1.1.9 2 2 2h14c1.1 0 2-.9 2-2V5c0-1.1-.9-2-2-2zM9 17H7v-7h2v7zm4 0h-2V7h2v10zm4 0h-2v-4h2v4z\"/>\n",
              "    </g>\n",
              "</svg>\n",
              "  </button>\n",
              "\n",
              "<style>\n",
              "  .colab-df-quickchart {\n",
              "      --bg-color: #E8F0FE;\n",
              "      --fill-color: #1967D2;\n",
              "      --hover-bg-color: #E2EBFA;\n",
              "      --hover-fill-color: #174EA6;\n",
              "      --disabled-fill-color: #AAA;\n",
              "      --disabled-bg-color: #DDD;\n",
              "  }\n",
              "\n",
              "  [theme=dark] .colab-df-quickchart {\n",
              "      --bg-color: #3B4455;\n",
              "      --fill-color: #D2E3FC;\n",
              "      --hover-bg-color: #434B5C;\n",
              "      --hover-fill-color: #FFFFFF;\n",
              "      --disabled-bg-color: #3B4455;\n",
              "      --disabled-fill-color: #666;\n",
              "  }\n",
              "\n",
              "  .colab-df-quickchart {\n",
              "    background-color: var(--bg-color);\n",
              "    border: none;\n",
              "    border-radius: 50%;\n",
              "    cursor: pointer;\n",
              "    display: none;\n",
              "    fill: var(--fill-color);\n",
              "    height: 32px;\n",
              "    padding: 0;\n",
              "    width: 32px;\n",
              "  }\n",
              "\n",
              "  .colab-df-quickchart:hover {\n",
              "    background-color: var(--hover-bg-color);\n",
              "    box-shadow: 0 1px 2px rgba(60, 64, 67, 0.3), 0 1px 3px 1px rgba(60, 64, 67, 0.15);\n",
              "    fill: var(--button-hover-fill-color);\n",
              "  }\n",
              "\n",
              "  .colab-df-quickchart-complete:disabled,\n",
              "  .colab-df-quickchart-complete:disabled:hover {\n",
              "    background-color: var(--disabled-bg-color);\n",
              "    fill: var(--disabled-fill-color);\n",
              "    box-shadow: none;\n",
              "  }\n",
              "\n",
              "  .colab-df-spinner {\n",
              "    border: 2px solid var(--fill-color);\n",
              "    border-color: transparent;\n",
              "    border-bottom-color: var(--fill-color);\n",
              "    animation:\n",
              "      spin 1s steps(1) infinite;\n",
              "  }\n",
              "\n",
              "  @keyframes spin {\n",
              "    0% {\n",
              "      border-color: transparent;\n",
              "      border-bottom-color: var(--fill-color);\n",
              "      border-left-color: var(--fill-color);\n",
              "    }\n",
              "    20% {\n",
              "      border-color: transparent;\n",
              "      border-left-color: var(--fill-color);\n",
              "      border-top-color: var(--fill-color);\n",
              "    }\n",
              "    30% {\n",
              "      border-color: transparent;\n",
              "      border-left-color: var(--fill-color);\n",
              "      border-top-color: var(--fill-color);\n",
              "      border-right-color: var(--fill-color);\n",
              "    }\n",
              "    40% {\n",
              "      border-color: transparent;\n",
              "      border-right-color: var(--fill-color);\n",
              "      border-top-color: var(--fill-color);\n",
              "    }\n",
              "    60% {\n",
              "      border-color: transparent;\n",
              "      border-right-color: var(--fill-color);\n",
              "    }\n",
              "    80% {\n",
              "      border-color: transparent;\n",
              "      border-right-color: var(--fill-color);\n",
              "      border-bottom-color: var(--fill-color);\n",
              "    }\n",
              "    90% {\n",
              "      border-color: transparent;\n",
              "      border-bottom-color: var(--fill-color);\n",
              "    }\n",
              "  }\n",
              "</style>\n",
              "\n",
              "  <script>\n",
              "    async function quickchart(key) {\n",
              "      const quickchartButtonEl =\n",
              "        document.querySelector('#' + key + ' button');\n",
              "      quickchartButtonEl.disabled = true;  // To prevent multiple clicks.\n",
              "      quickchartButtonEl.classList.add('colab-df-spinner');\n",
              "      try {\n",
              "        const charts = await google.colab.kernel.invokeFunction(\n",
              "            'suggestCharts', [key], {});\n",
              "      } catch (error) {\n",
              "        console.error('Error during call to suggestCharts:', error);\n",
              "      }\n",
              "      quickchartButtonEl.classList.remove('colab-df-spinner');\n",
              "      quickchartButtonEl.classList.add('colab-df-quickchart-complete');\n",
              "    }\n",
              "    (() => {\n",
              "      let quickchartButtonEl =\n",
              "        document.querySelector('#df-3e51e4f0-b882-4214-9d10-c1f7c4f5963c button');\n",
              "      quickchartButtonEl.style.display =\n",
              "        google.colab.kernel.accessAllowed ? 'block' : 'none';\n",
              "    })();\n",
              "  </script>\n",
              "</div>\n",
              "\n",
              "    </div>\n",
              "  </div>\n"
            ],
            "application/vnd.google.colaboratory.intrinsic+json": {
              "type": "dataframe",
              "variable_name": "df",
              "summary": "{\n  \"name\": \"df\",\n  \"rows\": 891,\n  \"fields\": [\n    {\n      \"column\": \"survived\",\n      \"properties\": {\n        \"dtype\": \"number\",\n        \"std\": 0,\n        \"min\": 0,\n        \"max\": 1,\n        \"num_unique_values\": 2,\n        \"samples\": [\n          1,\n          0\n        ],\n        \"semantic_type\": \"\",\n        \"description\": \"\"\n      }\n    },\n    {\n      \"column\": \"pclass\",\n      \"properties\": {\n        \"dtype\": \"number\",\n        \"std\": 0,\n        \"min\": 1,\n        \"max\": 3,\n        \"num_unique_values\": 3,\n        \"samples\": [\n          3,\n          1\n        ],\n        \"semantic_type\": \"\",\n        \"description\": \"\"\n      }\n    },\n    {\n      \"column\": \"sex\",\n      \"properties\": {\n        \"dtype\": \"category\",\n        \"num_unique_values\": 2,\n        \"samples\": [\n          \"female\",\n          \"male\"\n        ],\n        \"semantic_type\": \"\",\n        \"description\": \"\"\n      }\n    },\n    {\n      \"column\": \"age\",\n      \"properties\": {\n        \"dtype\": \"number\",\n        \"std\": 14.526497332334042,\n        \"min\": 0.42,\n        \"max\": 80.0,\n        \"num_unique_values\": 88,\n        \"samples\": [\n          0.75,\n          22.0\n        ],\n        \"semantic_type\": \"\",\n        \"description\": \"\"\n      }\n    },\n    {\n      \"column\": \"sibsp\",\n      \"properties\": {\n        \"dtype\": \"number\",\n        \"std\": 1,\n        \"min\": 0,\n        \"max\": 8,\n        \"num_unique_values\": 7,\n        \"samples\": [\n          1,\n          0\n        ],\n        \"semantic_type\": \"\",\n        \"description\": \"\"\n      }\n    },\n    {\n      \"column\": \"parch\",\n      \"properties\": {\n        \"dtype\": \"number\",\n        \"std\": 0,\n        \"min\": 0,\n        \"max\": 6,\n        \"num_unique_values\": 7,\n        \"samples\": [\n          0,\n          1\n        ],\n        \"semantic_type\": \"\",\n        \"description\": \"\"\n      }\n    },\n    {\n      \"column\": \"fare\",\n      \"properties\": {\n        \"dtype\": \"number\",\n        \"std\": 49.6934285971809,\n        \"min\": 0.0,\n        \"max\": 512.3292,\n        \"num_unique_values\": 248,\n        \"samples\": [\n          11.2417,\n          51.8625\n        ],\n        \"semantic_type\": \"\",\n        \"description\": \"\"\n      }\n    },\n    {\n      \"column\": \"embarked\",\n      \"properties\": {\n        \"dtype\": \"category\",\n        \"num_unique_values\": 3,\n        \"samples\": [\n          \"S\",\n          \"C\"\n        ],\n        \"semantic_type\": \"\",\n        \"description\": \"\"\n      }\n    },\n    {\n      \"column\": \"class\",\n      \"properties\": {\n        \"dtype\": \"category\",\n        \"num_unique_values\": 3,\n        \"samples\": [\n          \"Third\",\n          \"First\"\n        ],\n        \"semantic_type\": \"\",\n        \"description\": \"\"\n      }\n    },\n    {\n      \"column\": \"who\",\n      \"properties\": {\n        \"dtype\": \"category\",\n        \"num_unique_values\": 3,\n        \"samples\": [\n          \"man\",\n          \"woman\"\n        ],\n        \"semantic_type\": \"\",\n        \"description\": \"\"\n      }\n    },\n    {\n      \"column\": \"adult_male\",\n      \"properties\": {\n        \"dtype\": \"boolean\",\n        \"num_unique_values\": 2,\n        \"samples\": [\n          false,\n          true\n        ],\n        \"semantic_type\": \"\",\n        \"description\": \"\"\n      }\n    },\n    {\n      \"column\": \"deck\",\n      \"properties\": {\n        \"dtype\": \"category\",\n        \"num_unique_values\": 7,\n        \"samples\": [\n          \"C\",\n          \"E\"\n        ],\n        \"semantic_type\": \"\",\n        \"description\": \"\"\n      }\n    },\n    {\n      \"column\": \"embark_town\",\n      \"properties\": {\n        \"dtype\": \"category\",\n        \"num_unique_values\": 3,\n        \"samples\": [\n          \"Southampton\",\n          \"Cherbourg\"\n        ],\n        \"semantic_type\": \"\",\n        \"description\": \"\"\n      }\n    },\n    {\n      \"column\": \"alive\",\n      \"properties\": {\n        \"dtype\": \"category\",\n        \"num_unique_values\": 2,\n        \"samples\": [\n          \"yes\",\n          \"no\"\n        ],\n        \"semantic_type\": \"\",\n        \"description\": \"\"\n      }\n    },\n    {\n      \"column\": \"alone\",\n      \"properties\": {\n        \"dtype\": \"boolean\",\n        \"num_unique_values\": 2,\n        \"samples\": [\n          true,\n          false\n        ],\n        \"semantic_type\": \"\",\n        \"description\": \"\"\n      }\n    }\n  ]\n}"
            }
          },
          "metadata": {},
          "execution_count": 3
        }
      ]
    },
    {
      "cell_type": "markdown",
      "source": [
        "Colunas do DataFrame Titanic:\n",
        "- Survived: Indica se o passageiro sobreviveu (1) ou não (0).\n",
        "- Pclass: Classe do bilhete (1ª, 2ª ou 3ª).\n",
        "- Sex: Gênero do passageiro.\n",
        "- Age: Idade do passageiro.\n",
        "- SibSp: Número de irmãos/cônjuges a bordo.\n",
        "- Parch: Número de pais/filhos a bordo.\n",
        "- Fare: Tarifa paga pelo bilhete.\n",
        "- Embarked: Porto de embarque (C = Cherbourg, Q = Queenstown, S = Southampton).\n",
        "- Cabin: Número da cabine.\n",
        "- Embark_town: Nome da cidade de embarque.\n",
        "- Alive: Se a pessoa sobreviveu ou não (similar a Survived).\n",
        "- Alone: Se a pessoa estava sozinha ou não.\n"
      ],
      "metadata": {
        "id": "yVcI2Ej5RjpC"
      }
    },
    {
      "cell_type": "markdown",
      "source": [
        "# Etapas"
      ],
      "metadata": {
        "id": "l_MwAieTcR3C"
      }
    },
    {
      "cell_type": "markdown",
      "source": [
        "Pré-processamento:\n",
        "- 1 - Visualização\n",
        "- 2 - Imputação(Valores Faltando)\n",
        "- 3 - Tratamento de Textos\n",
        "- 4 - Normalização/Padronização"
      ],
      "metadata": {
        "id": "uK5XbRS1UJNo"
      }
    },
    {
      "cell_type": "markdown",
      "source": [
        "## Visualização"
      ],
      "metadata": {
        "id": "a-Dj9itDU059"
      }
    },
    {
      "cell_type": "code",
      "execution_count": null,
      "metadata": {
        "colab": {
          "base_uri": "https://localhost:8080/"
        },
        "id": "nk24MdDDRaCm",
        "outputId": "42e51930-b2b6-4294-ef61-82dc89d34e5b"
      },
      "outputs": [
        {
          "output_type": "stream",
          "name": "stdout",
          "text": [
            "<class 'pandas.core.frame.DataFrame'>\n",
            "RangeIndex: 891 entries, 0 to 890\n",
            "Data columns (total 15 columns):\n",
            " #   Column       Non-Null Count  Dtype   \n",
            "---  ------       --------------  -----   \n",
            " 0   survived     891 non-null    int64   \n",
            " 1   pclass       891 non-null    int64   \n",
            " 2   sex          891 non-null    object  \n",
            " 3   age          714 non-null    float64 \n",
            " 4   sibsp        891 non-null    int64   \n",
            " 5   parch        891 non-null    int64   \n",
            " 6   fare         891 non-null    float64 \n",
            " 7   embarked     889 non-null    object  \n",
            " 8   class        891 non-null    category\n",
            " 9   who          891 non-null    object  \n",
            " 10  adult_male   891 non-null    bool    \n",
            " 11  deck         203 non-null    category\n",
            " 12  embark_town  889 non-null    object  \n",
            " 13  alive        891 non-null    object  \n",
            " 14  alone        891 non-null    bool    \n",
            "dtypes: bool(2), category(2), float64(2), int64(4), object(5)\n",
            "memory usage: 80.7+ KB\n"
          ]
        }
      ],
      "source": [
        "# Informações gerais sobre o DataFrame\n",
        "df.info()"
      ]
    },
    {
      "cell_type": "code",
      "source": [
        "# Resumo estatístico das colunas numéricas\n",
        "df.describe()"
      ],
      "metadata": {
        "colab": {
          "base_uri": "https://localhost:8080/",
          "height": 300
        },
        "id": "Tfevih8JVzSc",
        "outputId": "da515b9c-f9dc-4201-a87b-f7edd2f98ae6"
      },
      "execution_count": null,
      "outputs": [
        {
          "output_type": "execute_result",
          "data": {
            "text/plain": [
              "         survived      pclass         age       sibsp       parch        fare\n",
              "count  891.000000  891.000000  714.000000  891.000000  891.000000  891.000000\n",
              "mean     0.383838    2.308642   29.699118    0.523008    0.381594   32.204208\n",
              "std      0.486592    0.836071   14.526497    1.102743    0.806057   49.693429\n",
              "min      0.000000    1.000000    0.420000    0.000000    0.000000    0.000000\n",
              "25%      0.000000    2.000000   20.125000    0.000000    0.000000    7.910400\n",
              "50%      0.000000    3.000000   28.000000    0.000000    0.000000   14.454200\n",
              "75%      1.000000    3.000000   38.000000    1.000000    0.000000   31.000000\n",
              "max      1.000000    3.000000   80.000000    8.000000    6.000000  512.329200"
            ],
            "text/html": [
              "\n",
              "  <div id=\"df-76a4000c-ad6b-4d21-a03c-400dc61c376e\" class=\"colab-df-container\">\n",
              "    <div>\n",
              "<style scoped>\n",
              "    .dataframe tbody tr th:only-of-type {\n",
              "        vertical-align: middle;\n",
              "    }\n",
              "\n",
              "    .dataframe tbody tr th {\n",
              "        vertical-align: top;\n",
              "    }\n",
              "\n",
              "    .dataframe thead th {\n",
              "        text-align: right;\n",
              "    }\n",
              "</style>\n",
              "<table border=\"1\" class=\"dataframe\">\n",
              "  <thead>\n",
              "    <tr style=\"text-align: right;\">\n",
              "      <th></th>\n",
              "      <th>survived</th>\n",
              "      <th>pclass</th>\n",
              "      <th>age</th>\n",
              "      <th>sibsp</th>\n",
              "      <th>parch</th>\n",
              "      <th>fare</th>\n",
              "    </tr>\n",
              "  </thead>\n",
              "  <tbody>\n",
              "    <tr>\n",
              "      <th>count</th>\n",
              "      <td>891.000000</td>\n",
              "      <td>891.000000</td>\n",
              "      <td>714.000000</td>\n",
              "      <td>891.000000</td>\n",
              "      <td>891.000000</td>\n",
              "      <td>891.000000</td>\n",
              "    </tr>\n",
              "    <tr>\n",
              "      <th>mean</th>\n",
              "      <td>0.383838</td>\n",
              "      <td>2.308642</td>\n",
              "      <td>29.699118</td>\n",
              "      <td>0.523008</td>\n",
              "      <td>0.381594</td>\n",
              "      <td>32.204208</td>\n",
              "    </tr>\n",
              "    <tr>\n",
              "      <th>std</th>\n",
              "      <td>0.486592</td>\n",
              "      <td>0.836071</td>\n",
              "      <td>14.526497</td>\n",
              "      <td>1.102743</td>\n",
              "      <td>0.806057</td>\n",
              "      <td>49.693429</td>\n",
              "    </tr>\n",
              "    <tr>\n",
              "      <th>min</th>\n",
              "      <td>0.000000</td>\n",
              "      <td>1.000000</td>\n",
              "      <td>0.420000</td>\n",
              "      <td>0.000000</td>\n",
              "      <td>0.000000</td>\n",
              "      <td>0.000000</td>\n",
              "    </tr>\n",
              "    <tr>\n",
              "      <th>25%</th>\n",
              "      <td>0.000000</td>\n",
              "      <td>2.000000</td>\n",
              "      <td>20.125000</td>\n",
              "      <td>0.000000</td>\n",
              "      <td>0.000000</td>\n",
              "      <td>7.910400</td>\n",
              "    </tr>\n",
              "    <tr>\n",
              "      <th>50%</th>\n",
              "      <td>0.000000</td>\n",
              "      <td>3.000000</td>\n",
              "      <td>28.000000</td>\n",
              "      <td>0.000000</td>\n",
              "      <td>0.000000</td>\n",
              "      <td>14.454200</td>\n",
              "    </tr>\n",
              "    <tr>\n",
              "      <th>75%</th>\n",
              "      <td>1.000000</td>\n",
              "      <td>3.000000</td>\n",
              "      <td>38.000000</td>\n",
              "      <td>1.000000</td>\n",
              "      <td>0.000000</td>\n",
              "      <td>31.000000</td>\n",
              "    </tr>\n",
              "    <tr>\n",
              "      <th>max</th>\n",
              "      <td>1.000000</td>\n",
              "      <td>3.000000</td>\n",
              "      <td>80.000000</td>\n",
              "      <td>8.000000</td>\n",
              "      <td>6.000000</td>\n",
              "      <td>512.329200</td>\n",
              "    </tr>\n",
              "  </tbody>\n",
              "</table>\n",
              "</div>\n",
              "    <div class=\"colab-df-buttons\">\n",
              "\n",
              "  <div class=\"colab-df-container\">\n",
              "    <button class=\"colab-df-convert\" onclick=\"convertToInteractive('df-76a4000c-ad6b-4d21-a03c-400dc61c376e')\"\n",
              "            title=\"Convert this dataframe to an interactive table.\"\n",
              "            style=\"display:none;\">\n",
              "\n",
              "  <svg xmlns=\"http://www.w3.org/2000/svg\" height=\"24px\" viewBox=\"0 -960 960 960\">\n",
              "    <path d=\"M120-120v-720h720v720H120Zm60-500h600v-160H180v160Zm220 220h160v-160H400v160Zm0 220h160v-160H400v160ZM180-400h160v-160H180v160Zm440 0h160v-160H620v160ZM180-180h160v-160H180v160Zm440 0h160v-160H620v160Z\"/>\n",
              "  </svg>\n",
              "    </button>\n",
              "\n",
              "  <style>\n",
              "    .colab-df-container {\n",
              "      display:flex;\n",
              "      gap: 12px;\n",
              "    }\n",
              "\n",
              "    .colab-df-convert {\n",
              "      background-color: #E8F0FE;\n",
              "      border: none;\n",
              "      border-radius: 50%;\n",
              "      cursor: pointer;\n",
              "      display: none;\n",
              "      fill: #1967D2;\n",
              "      height: 32px;\n",
              "      padding: 0 0 0 0;\n",
              "      width: 32px;\n",
              "    }\n",
              "\n",
              "    .colab-df-convert:hover {\n",
              "      background-color: #E2EBFA;\n",
              "      box-shadow: 0px 1px 2px rgba(60, 64, 67, 0.3), 0px 1px 3px 1px rgba(60, 64, 67, 0.15);\n",
              "      fill: #174EA6;\n",
              "    }\n",
              "\n",
              "    .colab-df-buttons div {\n",
              "      margin-bottom: 4px;\n",
              "    }\n",
              "\n",
              "    [theme=dark] .colab-df-convert {\n",
              "      background-color: #3B4455;\n",
              "      fill: #D2E3FC;\n",
              "    }\n",
              "\n",
              "    [theme=dark] .colab-df-convert:hover {\n",
              "      background-color: #434B5C;\n",
              "      box-shadow: 0px 1px 3px 1px rgba(0, 0, 0, 0.15);\n",
              "      filter: drop-shadow(0px 1px 2px rgba(0, 0, 0, 0.3));\n",
              "      fill: #FFFFFF;\n",
              "    }\n",
              "  </style>\n",
              "\n",
              "    <script>\n",
              "      const buttonEl =\n",
              "        document.querySelector('#df-76a4000c-ad6b-4d21-a03c-400dc61c376e button.colab-df-convert');\n",
              "      buttonEl.style.display =\n",
              "        google.colab.kernel.accessAllowed ? 'block' : 'none';\n",
              "\n",
              "      async function convertToInteractive(key) {\n",
              "        const element = document.querySelector('#df-76a4000c-ad6b-4d21-a03c-400dc61c376e');\n",
              "        const dataTable =\n",
              "          await google.colab.kernel.invokeFunction('convertToInteractive',\n",
              "                                                    [key], {});\n",
              "        if (!dataTable) return;\n",
              "\n",
              "        const docLinkHtml = 'Like what you see? Visit the ' +\n",
              "          '<a target=\"_blank\" href=https://colab.research.google.com/notebooks/data_table.ipynb>data table notebook</a>'\n",
              "          + ' to learn more about interactive tables.';\n",
              "        element.innerHTML = '';\n",
              "        dataTable['output_type'] = 'display_data';\n",
              "        await google.colab.output.renderOutput(dataTable, element);\n",
              "        const docLink = document.createElement('div');\n",
              "        docLink.innerHTML = docLinkHtml;\n",
              "        element.appendChild(docLink);\n",
              "      }\n",
              "    </script>\n",
              "  </div>\n",
              "\n",
              "\n",
              "<div id=\"df-6f06ea54-5106-4a64-8634-85e668b83cc7\">\n",
              "  <button class=\"colab-df-quickchart\" onclick=\"quickchart('df-6f06ea54-5106-4a64-8634-85e668b83cc7')\"\n",
              "            title=\"Suggest charts\"\n",
              "            style=\"display:none;\">\n",
              "\n",
              "<svg xmlns=\"http://www.w3.org/2000/svg\" height=\"24px\"viewBox=\"0 0 24 24\"\n",
              "     width=\"24px\">\n",
              "    <g>\n",
              "        <path d=\"M19 3H5c-1.1 0-2 .9-2 2v14c0 1.1.9 2 2 2h14c1.1 0 2-.9 2-2V5c0-1.1-.9-2-2-2zM9 17H7v-7h2v7zm4 0h-2V7h2v10zm4 0h-2v-4h2v4z\"/>\n",
              "    </g>\n",
              "</svg>\n",
              "  </button>\n",
              "\n",
              "<style>\n",
              "  .colab-df-quickchart {\n",
              "      --bg-color: #E8F0FE;\n",
              "      --fill-color: #1967D2;\n",
              "      --hover-bg-color: #E2EBFA;\n",
              "      --hover-fill-color: #174EA6;\n",
              "      --disabled-fill-color: #AAA;\n",
              "      --disabled-bg-color: #DDD;\n",
              "  }\n",
              "\n",
              "  [theme=dark] .colab-df-quickchart {\n",
              "      --bg-color: #3B4455;\n",
              "      --fill-color: #D2E3FC;\n",
              "      --hover-bg-color: #434B5C;\n",
              "      --hover-fill-color: #FFFFFF;\n",
              "      --disabled-bg-color: #3B4455;\n",
              "      --disabled-fill-color: #666;\n",
              "  }\n",
              "\n",
              "  .colab-df-quickchart {\n",
              "    background-color: var(--bg-color);\n",
              "    border: none;\n",
              "    border-radius: 50%;\n",
              "    cursor: pointer;\n",
              "    display: none;\n",
              "    fill: var(--fill-color);\n",
              "    height: 32px;\n",
              "    padding: 0;\n",
              "    width: 32px;\n",
              "  }\n",
              "\n",
              "  .colab-df-quickchart:hover {\n",
              "    background-color: var(--hover-bg-color);\n",
              "    box-shadow: 0 1px 2px rgba(60, 64, 67, 0.3), 0 1px 3px 1px rgba(60, 64, 67, 0.15);\n",
              "    fill: var(--button-hover-fill-color);\n",
              "  }\n",
              "\n",
              "  .colab-df-quickchart-complete:disabled,\n",
              "  .colab-df-quickchart-complete:disabled:hover {\n",
              "    background-color: var(--disabled-bg-color);\n",
              "    fill: var(--disabled-fill-color);\n",
              "    box-shadow: none;\n",
              "  }\n",
              "\n",
              "  .colab-df-spinner {\n",
              "    border: 2px solid var(--fill-color);\n",
              "    border-color: transparent;\n",
              "    border-bottom-color: var(--fill-color);\n",
              "    animation:\n",
              "      spin 1s steps(1) infinite;\n",
              "  }\n",
              "\n",
              "  @keyframes spin {\n",
              "    0% {\n",
              "      border-color: transparent;\n",
              "      border-bottom-color: var(--fill-color);\n",
              "      border-left-color: var(--fill-color);\n",
              "    }\n",
              "    20% {\n",
              "      border-color: transparent;\n",
              "      border-left-color: var(--fill-color);\n",
              "      border-top-color: var(--fill-color);\n",
              "    }\n",
              "    30% {\n",
              "      border-color: transparent;\n",
              "      border-left-color: var(--fill-color);\n",
              "      border-top-color: var(--fill-color);\n",
              "      border-right-color: var(--fill-color);\n",
              "    }\n",
              "    40% {\n",
              "      border-color: transparent;\n",
              "      border-right-color: var(--fill-color);\n",
              "      border-top-color: var(--fill-color);\n",
              "    }\n",
              "    60% {\n",
              "      border-color: transparent;\n",
              "      border-right-color: var(--fill-color);\n",
              "    }\n",
              "    80% {\n",
              "      border-color: transparent;\n",
              "      border-right-color: var(--fill-color);\n",
              "      border-bottom-color: var(--fill-color);\n",
              "    }\n",
              "    90% {\n",
              "      border-color: transparent;\n",
              "      border-bottom-color: var(--fill-color);\n",
              "    }\n",
              "  }\n",
              "</style>\n",
              "\n",
              "  <script>\n",
              "    async function quickchart(key) {\n",
              "      const quickchartButtonEl =\n",
              "        document.querySelector('#' + key + ' button');\n",
              "      quickchartButtonEl.disabled = true;  // To prevent multiple clicks.\n",
              "      quickchartButtonEl.classList.add('colab-df-spinner');\n",
              "      try {\n",
              "        const charts = await google.colab.kernel.invokeFunction(\n",
              "            'suggestCharts', [key], {});\n",
              "      } catch (error) {\n",
              "        console.error('Error during call to suggestCharts:', error);\n",
              "      }\n",
              "      quickchartButtonEl.classList.remove('colab-df-spinner');\n",
              "      quickchartButtonEl.classList.add('colab-df-quickchart-complete');\n",
              "    }\n",
              "    (() => {\n",
              "      let quickchartButtonEl =\n",
              "        document.querySelector('#df-6f06ea54-5106-4a64-8634-85e668b83cc7 button');\n",
              "      quickchartButtonEl.style.display =\n",
              "        google.colab.kernel.accessAllowed ? 'block' : 'none';\n",
              "    })();\n",
              "  </script>\n",
              "</div>\n",
              "\n",
              "    </div>\n",
              "  </div>\n"
            ],
            "application/vnd.google.colaboratory.intrinsic+json": {
              "type": "dataframe",
              "summary": "{\n  \"name\": \"df\",\n  \"rows\": 8,\n  \"fields\": [\n    {\n      \"column\": \"survived\",\n      \"properties\": {\n        \"dtype\": \"number\",\n        \"std\": 314.8713661874558,\n        \"min\": 0.0,\n        \"max\": 891.0,\n        \"num_unique_values\": 5,\n        \"samples\": [\n          0.3838383838383838,\n          1.0,\n          0.4865924542648575\n        ],\n        \"semantic_type\": \"\",\n        \"description\": \"\"\n      }\n    },\n    {\n      \"column\": \"pclass\",\n      \"properties\": {\n        \"dtype\": \"number\",\n        \"std\": 314.2523437079694,\n        \"min\": 0.836071240977049,\n        \"max\": 891.0,\n        \"num_unique_values\": 6,\n        \"samples\": [\n          891.0,\n          2.308641975308642,\n          3.0\n        ],\n        \"semantic_type\": \"\",\n        \"description\": \"\"\n      }\n    },\n    {\n      \"column\": \"age\",\n      \"properties\": {\n        \"dtype\": \"number\",\n        \"std\": 242.9056731818781,\n        \"min\": 0.42,\n        \"max\": 714.0,\n        \"num_unique_values\": 8,\n        \"samples\": [\n          29.69911764705882,\n          28.0,\n          714.0\n        ],\n        \"semantic_type\": \"\",\n        \"description\": \"\"\n      }\n    },\n    {\n      \"column\": \"sibsp\",\n      \"properties\": {\n        \"dtype\": \"number\",\n        \"std\": 314.4908277465442,\n        \"min\": 0.0,\n        \"max\": 891.0,\n        \"num_unique_values\": 6,\n        \"samples\": [\n          891.0,\n          0.5230078563411896,\n          8.0\n        ],\n        \"semantic_type\": \"\",\n        \"description\": \"\"\n      }\n    },\n    {\n      \"column\": \"parch\",\n      \"properties\": {\n        \"dtype\": \"number\",\n        \"std\": 314.65971717879,\n        \"min\": 0.0,\n        \"max\": 891.0,\n        \"num_unique_values\": 5,\n        \"samples\": [\n          0.38159371492704824,\n          6.0,\n          0.8060572211299483\n        ],\n        \"semantic_type\": \"\",\n        \"description\": \"\"\n      }\n    },\n    {\n      \"column\": \"fare\",\n      \"properties\": {\n        \"dtype\": \"number\",\n        \"std\": 330.6256632228578,\n        \"min\": 0.0,\n        \"max\": 891.0,\n        \"num_unique_values\": 8,\n        \"samples\": [\n          32.204207968574636,\n          14.4542,\n          891.0\n        ],\n        \"semantic_type\": \"\",\n        \"description\": \"\"\n      }\n    }\n  ]\n}"
            }
          },
          "metadata": {},
          "execution_count": 14
        }
      ]
    },
    {
      "cell_type": "code",
      "source": [
        "# Verificar valores ausentes\n",
        "df.isnull().sum()"
      ],
      "metadata": {
        "colab": {
          "base_uri": "https://localhost:8080/",
          "height": 554
        },
        "id": "wdluYeSLVz9-",
        "outputId": "3b5853ef-0355-44de-c743-1ed3c87fc17d"
      },
      "execution_count": null,
      "outputs": [
        {
          "output_type": "execute_result",
          "data": {
            "text/plain": [
              "survived         0\n",
              "pclass           0\n",
              "sex              0\n",
              "age            177\n",
              "sibsp            0\n",
              "parch            0\n",
              "fare             0\n",
              "embarked         2\n",
              "class            0\n",
              "who              0\n",
              "adult_male       0\n",
              "deck           688\n",
              "embark_town      2\n",
              "alive            0\n",
              "alone            0\n",
              "dtype: int64"
            ],
            "text/html": [
              "<div>\n",
              "<style scoped>\n",
              "    .dataframe tbody tr th:only-of-type {\n",
              "        vertical-align: middle;\n",
              "    }\n",
              "\n",
              "    .dataframe tbody tr th {\n",
              "        vertical-align: top;\n",
              "    }\n",
              "\n",
              "    .dataframe thead th {\n",
              "        text-align: right;\n",
              "    }\n",
              "</style>\n",
              "<table border=\"1\" class=\"dataframe\">\n",
              "  <thead>\n",
              "    <tr style=\"text-align: right;\">\n",
              "      <th></th>\n",
              "      <th>0</th>\n",
              "    </tr>\n",
              "  </thead>\n",
              "  <tbody>\n",
              "    <tr>\n",
              "      <th>survived</th>\n",
              "      <td>0</td>\n",
              "    </tr>\n",
              "    <tr>\n",
              "      <th>pclass</th>\n",
              "      <td>0</td>\n",
              "    </tr>\n",
              "    <tr>\n",
              "      <th>sex</th>\n",
              "      <td>0</td>\n",
              "    </tr>\n",
              "    <tr>\n",
              "      <th>age</th>\n",
              "      <td>177</td>\n",
              "    </tr>\n",
              "    <tr>\n",
              "      <th>sibsp</th>\n",
              "      <td>0</td>\n",
              "    </tr>\n",
              "    <tr>\n",
              "      <th>parch</th>\n",
              "      <td>0</td>\n",
              "    </tr>\n",
              "    <tr>\n",
              "      <th>fare</th>\n",
              "      <td>0</td>\n",
              "    </tr>\n",
              "    <tr>\n",
              "      <th>embarked</th>\n",
              "      <td>2</td>\n",
              "    </tr>\n",
              "    <tr>\n",
              "      <th>class</th>\n",
              "      <td>0</td>\n",
              "    </tr>\n",
              "    <tr>\n",
              "      <th>who</th>\n",
              "      <td>0</td>\n",
              "    </tr>\n",
              "    <tr>\n",
              "      <th>adult_male</th>\n",
              "      <td>0</td>\n",
              "    </tr>\n",
              "    <tr>\n",
              "      <th>deck</th>\n",
              "      <td>688</td>\n",
              "    </tr>\n",
              "    <tr>\n",
              "      <th>embark_town</th>\n",
              "      <td>2</td>\n",
              "    </tr>\n",
              "    <tr>\n",
              "      <th>alive</th>\n",
              "      <td>0</td>\n",
              "    </tr>\n",
              "    <tr>\n",
              "      <th>alone</th>\n",
              "      <td>0</td>\n",
              "    </tr>\n",
              "  </tbody>\n",
              "</table>\n",
              "</div><br><label><b>dtype:</b> int64</label>"
            ]
          },
          "metadata": {},
          "execution_count": 15
        }
      ]
    },
    {
      "cell_type": "code",
      "source": [
        "# identificação da coluna Deck\n",
        "df['deck'].value_counts()"
      ],
      "metadata": {
        "colab": {
          "base_uri": "https://localhost:8080/",
          "height": 335
        },
        "id": "_wUfvGSiYwF8",
        "outputId": "024480fe-4c55-45be-e1ea-75c1cc756148"
      },
      "execution_count": null,
      "outputs": [
        {
          "output_type": "execute_result",
          "data": {
            "text/plain": [
              "deck\n",
              "C    59\n",
              "B    47\n",
              "D    33\n",
              "E    32\n",
              "A    15\n",
              "F    13\n",
              "G     4\n",
              "Name: count, dtype: int64"
            ],
            "text/html": [
              "<div>\n",
              "<style scoped>\n",
              "    .dataframe tbody tr th:only-of-type {\n",
              "        vertical-align: middle;\n",
              "    }\n",
              "\n",
              "    .dataframe tbody tr th {\n",
              "        vertical-align: top;\n",
              "    }\n",
              "\n",
              "    .dataframe thead th {\n",
              "        text-align: right;\n",
              "    }\n",
              "</style>\n",
              "<table border=\"1\" class=\"dataframe\">\n",
              "  <thead>\n",
              "    <tr style=\"text-align: right;\">\n",
              "      <th></th>\n",
              "      <th>count</th>\n",
              "    </tr>\n",
              "    <tr>\n",
              "      <th>deck</th>\n",
              "      <th></th>\n",
              "    </tr>\n",
              "  </thead>\n",
              "  <tbody>\n",
              "    <tr>\n",
              "      <th>C</th>\n",
              "      <td>59</td>\n",
              "    </tr>\n",
              "    <tr>\n",
              "      <th>B</th>\n",
              "      <td>47</td>\n",
              "    </tr>\n",
              "    <tr>\n",
              "      <th>D</th>\n",
              "      <td>33</td>\n",
              "    </tr>\n",
              "    <tr>\n",
              "      <th>E</th>\n",
              "      <td>32</td>\n",
              "    </tr>\n",
              "    <tr>\n",
              "      <th>A</th>\n",
              "      <td>15</td>\n",
              "    </tr>\n",
              "    <tr>\n",
              "      <th>F</th>\n",
              "      <td>13</td>\n",
              "    </tr>\n",
              "    <tr>\n",
              "      <th>G</th>\n",
              "      <td>4</td>\n",
              "    </tr>\n",
              "  </tbody>\n",
              "</table>\n",
              "</div><br><label><b>dtype:</b> int64</label>"
            ]
          },
          "metadata": {},
          "execution_count": 16
        }
      ]
    },
    {
      "cell_type": "markdown",
      "source": [
        "## Imputação"
      ],
      "metadata": {
        "id": "3j-Mk1asVEDC"
      }
    },
    {
      "cell_type": "markdown",
      "source": [
        "Decisões:\n",
        "- Média\n",
        "  - Desvio Padrão\n",
        "- Moda\n",
        "- Mediana\n"
      ],
      "metadata": {
        "id": "BREQoFBiVc8u"
      }
    },
    {
      "cell_type": "markdown",
      "source": [
        "- Remoção Total: Remoção de todos os valores faltantes, importante para colunas inuteis."
      ],
      "metadata": {
        "id": "nGGIz7FCVi2R"
      }
    },
    {
      "cell_type": "code",
      "source": [
        "# Imputação da idade com a mediana\n",
        "df['age'].fillna(df['age'].median(), inplace=True) # implace diz que você quer alterar\n",
        "                                                   # o dataframe atual\n",
        "\n",
        "# Decisão de remover valores faltantes na coluna 'Embark_Town'\n",
        "df.dropna(subset=['embark_town'], inplace=True)\n",
        "\n",
        "# Removor colunas redundantes como 'Alive' e 'Class'\n",
        "df.drop(columns=['embarked', 'class', 'who', 'adult_male', 'deck', 'alive', 'alone', 'embark_town'], inplace=True)"
      ],
      "metadata": {
        "id": "DJyrss4wVF-8"
      },
      "execution_count": null,
      "outputs": []
    },
    {
      "cell_type": "markdown",
      "source": [
        "Verificação"
      ],
      "metadata": {
        "id": "EaDmk2cuXMW6"
      }
    },
    {
      "cell_type": "code",
      "source": [
        "df.isnull().sum()"
      ],
      "metadata": {
        "colab": {
          "base_uri": "https://localhost:8080/",
          "height": 303
        },
        "id": "_jJsRthCaAub",
        "outputId": "5b76f371-7dfc-4849-c72a-851ed6b5bce6"
      },
      "execution_count": null,
      "outputs": [
        {
          "output_type": "execute_result",
          "data": {
            "text/plain": [
              "survived    0\n",
              "pclass      0\n",
              "sex         0\n",
              "age         0\n",
              "sibsp       0\n",
              "parch       0\n",
              "fare        0\n",
              "dtype: int64"
            ],
            "text/html": [
              "<div>\n",
              "<style scoped>\n",
              "    .dataframe tbody tr th:only-of-type {\n",
              "        vertical-align: middle;\n",
              "    }\n",
              "\n",
              "    .dataframe tbody tr th {\n",
              "        vertical-align: top;\n",
              "    }\n",
              "\n",
              "    .dataframe thead th {\n",
              "        text-align: right;\n",
              "    }\n",
              "</style>\n",
              "<table border=\"1\" class=\"dataframe\">\n",
              "  <thead>\n",
              "    <tr style=\"text-align: right;\">\n",
              "      <th></th>\n",
              "      <th>0</th>\n",
              "    </tr>\n",
              "  </thead>\n",
              "  <tbody>\n",
              "    <tr>\n",
              "      <th>survived</th>\n",
              "      <td>0</td>\n",
              "    </tr>\n",
              "    <tr>\n",
              "      <th>pclass</th>\n",
              "      <td>0</td>\n",
              "    </tr>\n",
              "    <tr>\n",
              "      <th>sex</th>\n",
              "      <td>0</td>\n",
              "    </tr>\n",
              "    <tr>\n",
              "      <th>age</th>\n",
              "      <td>0</td>\n",
              "    </tr>\n",
              "    <tr>\n",
              "      <th>sibsp</th>\n",
              "      <td>0</td>\n",
              "    </tr>\n",
              "    <tr>\n",
              "      <th>parch</th>\n",
              "      <td>0</td>\n",
              "    </tr>\n",
              "    <tr>\n",
              "      <th>fare</th>\n",
              "      <td>0</td>\n",
              "    </tr>\n",
              "  </tbody>\n",
              "</table>\n",
              "</div><br><label><b>dtype:</b> int64</label>"
            ]
          },
          "metadata": {},
          "execution_count": 6
        }
      ]
    },
    {
      "cell_type": "code",
      "source": [
        "df.info()"
      ],
      "metadata": {
        "colab": {
          "base_uri": "https://localhost:8080/"
        },
        "id": "YlZTICI8bwG2",
        "outputId": "1623865a-dddc-400a-f3e1-1ea30136daf8"
      },
      "execution_count": null,
      "outputs": [
        {
          "output_type": "stream",
          "name": "stdout",
          "text": [
            "<class 'pandas.core.frame.DataFrame'>\n",
            "Index: 889 entries, 0 to 890\n",
            "Data columns (total 7 columns):\n",
            " #   Column    Non-Null Count  Dtype  \n",
            "---  ------    --------------  -----  \n",
            " 0   survived  889 non-null    int64  \n",
            " 1   pclass    889 non-null    int64  \n",
            " 2   sex       889 non-null    object \n",
            " 3   age       889 non-null    float64\n",
            " 4   sibsp     889 non-null    int64  \n",
            " 5   parch     889 non-null    int64  \n",
            " 6   fare      889 non-null    float64\n",
            "dtypes: float64(2), int64(4), object(1)\n",
            "memory usage: 55.6+ KB\n"
          ]
        }
      ]
    },
    {
      "cell_type": "code",
      "source": [
        "df.head()"
      ],
      "metadata": {
        "colab": {
          "base_uri": "https://localhost:8080/",
          "height": 206
        },
        "id": "uPOp819RaED3",
        "outputId": "8086d57a-939e-4fc7-8858-9a1579255b59"
      },
      "execution_count": null,
      "outputs": [
        {
          "output_type": "execute_result",
          "data": {
            "text/plain": [
              "   survived  pclass     sex   age  sibsp  parch     fare\n",
              "0         0       3    male  22.0      1      0   7.2500\n",
              "1         1       1  female  38.0      1      0  71.2833\n",
              "2         1       3  female  26.0      0      0   7.9250\n",
              "3         1       1  female  35.0      1      0  53.1000\n",
              "4         0       3    male  35.0      0      0   8.0500"
            ],
            "text/html": [
              "\n",
              "  <div id=\"df-acdad8e9-bd59-45fe-8c0c-7f43e1b67ffd\" class=\"colab-df-container\">\n",
              "    <div>\n",
              "<style scoped>\n",
              "    .dataframe tbody tr th:only-of-type {\n",
              "        vertical-align: middle;\n",
              "    }\n",
              "\n",
              "    .dataframe tbody tr th {\n",
              "        vertical-align: top;\n",
              "    }\n",
              "\n",
              "    .dataframe thead th {\n",
              "        text-align: right;\n",
              "    }\n",
              "</style>\n",
              "<table border=\"1\" class=\"dataframe\">\n",
              "  <thead>\n",
              "    <tr style=\"text-align: right;\">\n",
              "      <th></th>\n",
              "      <th>survived</th>\n",
              "      <th>pclass</th>\n",
              "      <th>sex</th>\n",
              "      <th>age</th>\n",
              "      <th>sibsp</th>\n",
              "      <th>parch</th>\n",
              "      <th>fare</th>\n",
              "    </tr>\n",
              "  </thead>\n",
              "  <tbody>\n",
              "    <tr>\n",
              "      <th>0</th>\n",
              "      <td>0</td>\n",
              "      <td>3</td>\n",
              "      <td>male</td>\n",
              "      <td>22.0</td>\n",
              "      <td>1</td>\n",
              "      <td>0</td>\n",
              "      <td>7.2500</td>\n",
              "    </tr>\n",
              "    <tr>\n",
              "      <th>1</th>\n",
              "      <td>1</td>\n",
              "      <td>1</td>\n",
              "      <td>female</td>\n",
              "      <td>38.0</td>\n",
              "      <td>1</td>\n",
              "      <td>0</td>\n",
              "      <td>71.2833</td>\n",
              "    </tr>\n",
              "    <tr>\n",
              "      <th>2</th>\n",
              "      <td>1</td>\n",
              "      <td>3</td>\n",
              "      <td>female</td>\n",
              "      <td>26.0</td>\n",
              "      <td>0</td>\n",
              "      <td>0</td>\n",
              "      <td>7.9250</td>\n",
              "    </tr>\n",
              "    <tr>\n",
              "      <th>3</th>\n",
              "      <td>1</td>\n",
              "      <td>1</td>\n",
              "      <td>female</td>\n",
              "      <td>35.0</td>\n",
              "      <td>1</td>\n",
              "      <td>0</td>\n",
              "      <td>53.1000</td>\n",
              "    </tr>\n",
              "    <tr>\n",
              "      <th>4</th>\n",
              "      <td>0</td>\n",
              "      <td>3</td>\n",
              "      <td>male</td>\n",
              "      <td>35.0</td>\n",
              "      <td>0</td>\n",
              "      <td>0</td>\n",
              "      <td>8.0500</td>\n",
              "    </tr>\n",
              "  </tbody>\n",
              "</table>\n",
              "</div>\n",
              "    <div class=\"colab-df-buttons\">\n",
              "\n",
              "  <div class=\"colab-df-container\">\n",
              "    <button class=\"colab-df-convert\" onclick=\"convertToInteractive('df-acdad8e9-bd59-45fe-8c0c-7f43e1b67ffd')\"\n",
              "            title=\"Convert this dataframe to an interactive table.\"\n",
              "            style=\"display:none;\">\n",
              "\n",
              "  <svg xmlns=\"http://www.w3.org/2000/svg\" height=\"24px\" viewBox=\"0 -960 960 960\">\n",
              "    <path d=\"M120-120v-720h720v720H120Zm60-500h600v-160H180v160Zm220 220h160v-160H400v160Zm0 220h160v-160H400v160ZM180-400h160v-160H180v160Zm440 0h160v-160H620v160ZM180-180h160v-160H180v160Zm440 0h160v-160H620v160Z\"/>\n",
              "  </svg>\n",
              "    </button>\n",
              "\n",
              "  <style>\n",
              "    .colab-df-container {\n",
              "      display:flex;\n",
              "      gap: 12px;\n",
              "    }\n",
              "\n",
              "    .colab-df-convert {\n",
              "      background-color: #E8F0FE;\n",
              "      border: none;\n",
              "      border-radius: 50%;\n",
              "      cursor: pointer;\n",
              "      display: none;\n",
              "      fill: #1967D2;\n",
              "      height: 32px;\n",
              "      padding: 0 0 0 0;\n",
              "      width: 32px;\n",
              "    }\n",
              "\n",
              "    .colab-df-convert:hover {\n",
              "      background-color: #E2EBFA;\n",
              "      box-shadow: 0px 1px 2px rgba(60, 64, 67, 0.3), 0px 1px 3px 1px rgba(60, 64, 67, 0.15);\n",
              "      fill: #174EA6;\n",
              "    }\n",
              "\n",
              "    .colab-df-buttons div {\n",
              "      margin-bottom: 4px;\n",
              "    }\n",
              "\n",
              "    [theme=dark] .colab-df-convert {\n",
              "      background-color: #3B4455;\n",
              "      fill: #D2E3FC;\n",
              "    }\n",
              "\n",
              "    [theme=dark] .colab-df-convert:hover {\n",
              "      background-color: #434B5C;\n",
              "      box-shadow: 0px 1px 3px 1px rgba(0, 0, 0, 0.15);\n",
              "      filter: drop-shadow(0px 1px 2px rgba(0, 0, 0, 0.3));\n",
              "      fill: #FFFFFF;\n",
              "    }\n",
              "  </style>\n",
              "\n",
              "    <script>\n",
              "      const buttonEl =\n",
              "        document.querySelector('#df-acdad8e9-bd59-45fe-8c0c-7f43e1b67ffd button.colab-df-convert');\n",
              "      buttonEl.style.display =\n",
              "        google.colab.kernel.accessAllowed ? 'block' : 'none';\n",
              "\n",
              "      async function convertToInteractive(key) {\n",
              "        const element = document.querySelector('#df-acdad8e9-bd59-45fe-8c0c-7f43e1b67ffd');\n",
              "        const dataTable =\n",
              "          await google.colab.kernel.invokeFunction('convertToInteractive',\n",
              "                                                    [key], {});\n",
              "        if (!dataTable) return;\n",
              "\n",
              "        const docLinkHtml = 'Like what you see? Visit the ' +\n",
              "          '<a target=\"_blank\" href=https://colab.research.google.com/notebooks/data_table.ipynb>data table notebook</a>'\n",
              "          + ' to learn more about interactive tables.';\n",
              "        element.innerHTML = '';\n",
              "        dataTable['output_type'] = 'display_data';\n",
              "        await google.colab.output.renderOutput(dataTable, element);\n",
              "        const docLink = document.createElement('div');\n",
              "        docLink.innerHTML = docLinkHtml;\n",
              "        element.appendChild(docLink);\n",
              "      }\n",
              "    </script>\n",
              "  </div>\n",
              "\n",
              "\n",
              "<div id=\"df-075430dc-9acc-44e7-91fb-93013231d6dd\">\n",
              "  <button class=\"colab-df-quickchart\" onclick=\"quickchart('df-075430dc-9acc-44e7-91fb-93013231d6dd')\"\n",
              "            title=\"Suggest charts\"\n",
              "            style=\"display:none;\">\n",
              "\n",
              "<svg xmlns=\"http://www.w3.org/2000/svg\" height=\"24px\"viewBox=\"0 0 24 24\"\n",
              "     width=\"24px\">\n",
              "    <g>\n",
              "        <path d=\"M19 3H5c-1.1 0-2 .9-2 2v14c0 1.1.9 2 2 2h14c1.1 0 2-.9 2-2V5c0-1.1-.9-2-2-2zM9 17H7v-7h2v7zm4 0h-2V7h2v10zm4 0h-2v-4h2v4z\"/>\n",
              "    </g>\n",
              "</svg>\n",
              "  </button>\n",
              "\n",
              "<style>\n",
              "  .colab-df-quickchart {\n",
              "      --bg-color: #E8F0FE;\n",
              "      --fill-color: #1967D2;\n",
              "      --hover-bg-color: #E2EBFA;\n",
              "      --hover-fill-color: #174EA6;\n",
              "      --disabled-fill-color: #AAA;\n",
              "      --disabled-bg-color: #DDD;\n",
              "  }\n",
              "\n",
              "  [theme=dark] .colab-df-quickchart {\n",
              "      --bg-color: #3B4455;\n",
              "      --fill-color: #D2E3FC;\n",
              "      --hover-bg-color: #434B5C;\n",
              "      --hover-fill-color: #FFFFFF;\n",
              "      --disabled-bg-color: #3B4455;\n",
              "      --disabled-fill-color: #666;\n",
              "  }\n",
              "\n",
              "  .colab-df-quickchart {\n",
              "    background-color: var(--bg-color);\n",
              "    border: none;\n",
              "    border-radius: 50%;\n",
              "    cursor: pointer;\n",
              "    display: none;\n",
              "    fill: var(--fill-color);\n",
              "    height: 32px;\n",
              "    padding: 0;\n",
              "    width: 32px;\n",
              "  }\n",
              "\n",
              "  .colab-df-quickchart:hover {\n",
              "    background-color: var(--hover-bg-color);\n",
              "    box-shadow: 0 1px 2px rgba(60, 64, 67, 0.3), 0 1px 3px 1px rgba(60, 64, 67, 0.15);\n",
              "    fill: var(--button-hover-fill-color);\n",
              "  }\n",
              "\n",
              "  .colab-df-quickchart-complete:disabled,\n",
              "  .colab-df-quickchart-complete:disabled:hover {\n",
              "    background-color: var(--disabled-bg-color);\n",
              "    fill: var(--disabled-fill-color);\n",
              "    box-shadow: none;\n",
              "  }\n",
              "\n",
              "  .colab-df-spinner {\n",
              "    border: 2px solid var(--fill-color);\n",
              "    border-color: transparent;\n",
              "    border-bottom-color: var(--fill-color);\n",
              "    animation:\n",
              "      spin 1s steps(1) infinite;\n",
              "  }\n",
              "\n",
              "  @keyframes spin {\n",
              "    0% {\n",
              "      border-color: transparent;\n",
              "      border-bottom-color: var(--fill-color);\n",
              "      border-left-color: var(--fill-color);\n",
              "    }\n",
              "    20% {\n",
              "      border-color: transparent;\n",
              "      border-left-color: var(--fill-color);\n",
              "      border-top-color: var(--fill-color);\n",
              "    }\n",
              "    30% {\n",
              "      border-color: transparent;\n",
              "      border-left-color: var(--fill-color);\n",
              "      border-top-color: var(--fill-color);\n",
              "      border-right-color: var(--fill-color);\n",
              "    }\n",
              "    40% {\n",
              "      border-color: transparent;\n",
              "      border-right-color: var(--fill-color);\n",
              "      border-top-color: var(--fill-color);\n",
              "    }\n",
              "    60% {\n",
              "      border-color: transparent;\n",
              "      border-right-color: var(--fill-color);\n",
              "    }\n",
              "    80% {\n",
              "      border-color: transparent;\n",
              "      border-right-color: var(--fill-color);\n",
              "      border-bottom-color: var(--fill-color);\n",
              "    }\n",
              "    90% {\n",
              "      border-color: transparent;\n",
              "      border-bottom-color: var(--fill-color);\n",
              "    }\n",
              "  }\n",
              "</style>\n",
              "\n",
              "  <script>\n",
              "    async function quickchart(key) {\n",
              "      const quickchartButtonEl =\n",
              "        document.querySelector('#' + key + ' button');\n",
              "      quickchartButtonEl.disabled = true;  // To prevent multiple clicks.\n",
              "      quickchartButtonEl.classList.add('colab-df-spinner');\n",
              "      try {\n",
              "        const charts = await google.colab.kernel.invokeFunction(\n",
              "            'suggestCharts', [key], {});\n",
              "      } catch (error) {\n",
              "        console.error('Error during call to suggestCharts:', error);\n",
              "      }\n",
              "      quickchartButtonEl.classList.remove('colab-df-spinner');\n",
              "      quickchartButtonEl.classList.add('colab-df-quickchart-complete');\n",
              "    }\n",
              "    (() => {\n",
              "      let quickchartButtonEl =\n",
              "        document.querySelector('#df-075430dc-9acc-44e7-91fb-93013231d6dd button');\n",
              "      quickchartButtonEl.style.display =\n",
              "        google.colab.kernel.accessAllowed ? 'block' : 'none';\n",
              "    })();\n",
              "  </script>\n",
              "</div>\n",
              "\n",
              "    </div>\n",
              "  </div>\n"
            ],
            "application/vnd.google.colaboratory.intrinsic+json": {
              "type": "dataframe",
              "variable_name": "df",
              "summary": "{\n  \"name\": \"df\",\n  \"rows\": 889,\n  \"fields\": [\n    {\n      \"column\": \"survived\",\n      \"properties\": {\n        \"dtype\": \"number\",\n        \"std\": 0,\n        \"min\": 0,\n        \"max\": 1,\n        \"num_unique_values\": 2,\n        \"samples\": [\n          1,\n          0\n        ],\n        \"semantic_type\": \"\",\n        \"description\": \"\"\n      }\n    },\n    {\n      \"column\": \"pclass\",\n      \"properties\": {\n        \"dtype\": \"number\",\n        \"std\": 0,\n        \"min\": 1,\n        \"max\": 3,\n        \"num_unique_values\": 3,\n        \"samples\": [\n          3,\n          1\n        ],\n        \"semantic_type\": \"\",\n        \"description\": \"\"\n      }\n    },\n    {\n      \"column\": \"sex\",\n      \"properties\": {\n        \"dtype\": \"category\",\n        \"num_unique_values\": 2,\n        \"samples\": [\n          \"female\",\n          \"male\"\n        ],\n        \"semantic_type\": \"\",\n        \"description\": \"\"\n      }\n    },\n    {\n      \"column\": \"age\",\n      \"properties\": {\n        \"dtype\": \"number\",\n        \"std\": 12.984932293690775,\n        \"min\": 0.42,\n        \"max\": 80.0,\n        \"num_unique_values\": 88,\n        \"samples\": [\n          0.75,\n          22.0\n        ],\n        \"semantic_type\": \"\",\n        \"description\": \"\"\n      }\n    },\n    {\n      \"column\": \"sibsp\",\n      \"properties\": {\n        \"dtype\": \"number\",\n        \"std\": 1,\n        \"min\": 0,\n        \"max\": 8,\n        \"num_unique_values\": 7,\n        \"samples\": [\n          1,\n          0\n        ],\n        \"semantic_type\": \"\",\n        \"description\": \"\"\n      }\n    },\n    {\n      \"column\": \"parch\",\n      \"properties\": {\n        \"dtype\": \"number\",\n        \"std\": 0,\n        \"min\": 0,\n        \"max\": 6,\n        \"num_unique_values\": 7,\n        \"samples\": [\n          0,\n          1\n        ],\n        \"semantic_type\": \"\",\n        \"description\": \"\"\n      }\n    },\n    {\n      \"column\": \"fare\",\n      \"properties\": {\n        \"dtype\": \"number\",\n        \"std\": 49.697504316707956,\n        \"min\": 0.0,\n        \"max\": 512.3292,\n        \"num_unique_values\": 247,\n        \"samples\": [\n          11.2417,\n          51.8625\n        ],\n        \"semantic_type\": \"\",\n        \"description\": \"\"\n      }\n    }\n  ]\n}"
            }
          },
          "metadata": {},
          "execution_count": 35
        }
      ]
    },
    {
      "cell_type": "markdown",
      "source": [
        "## Lidando com texto"
      ],
      "metadata": {
        "id": "pv0HbWWsbRzq"
      }
    },
    {
      "cell_type": "markdown",
      "source": [
        "- Por que categorizar dados?"
      ],
      "metadata": {
        "id": "_ZeRz3GpccRk"
      }
    },
    {
      "cell_type": "code",
      "source": [
        "# Codificação da coluna 'Sex'\n",
        "df['sex'] = df['sex'].map({'male': 0, 'female': 1})"
      ],
      "metadata": {
        "id": "oj-qvchZb9qB"
      },
      "execution_count": null,
      "outputs": []
    },
    {
      "cell_type": "markdown",
      "source": [
        "- 0 : Homem\n",
        "- 1 : Mulher"
      ],
      "metadata": {
        "id": "YPW-hi6OcsVU"
      }
    },
    {
      "cell_type": "code",
      "source": [
        "df.info()"
      ],
      "metadata": {
        "colab": {
          "base_uri": "https://localhost:8080/"
        },
        "id": "v3PxmdomcmGx",
        "outputId": "df58afd8-d4a4-457b-a122-a2618e4a6d8d"
      },
      "execution_count": null,
      "outputs": [
        {
          "output_type": "stream",
          "name": "stdout",
          "text": [
            "<class 'pandas.core.frame.DataFrame'>\n",
            "Index: 889 entries, 0 to 890\n",
            "Data columns (total 7 columns):\n",
            " #   Column    Non-Null Count  Dtype  \n",
            "---  ------    --------------  -----  \n",
            " 0   survived  889 non-null    int64  \n",
            " 1   pclass    889 non-null    int64  \n",
            " 2   sex       889 non-null    int64  \n",
            " 3   age       889 non-null    float64\n",
            " 4   sibsp     889 non-null    int64  \n",
            " 5   parch     889 non-null    int64  \n",
            " 6   fare      889 non-null    float64\n",
            "dtypes: float64(2), int64(5)\n",
            "memory usage: 55.6 KB\n"
          ]
        }
      ]
    },
    {
      "cell_type": "code",
      "source": [
        "df.head()"
      ],
      "metadata": {
        "colab": {
          "base_uri": "https://localhost:8080/",
          "height": 206
        },
        "id": "tPSrR-HccpOb",
        "outputId": "203b394c-fb16-4baa-96c3-380f198f9de7"
      },
      "execution_count": null,
      "outputs": [
        {
          "output_type": "execute_result",
          "data": {
            "text/plain": [
              "   survived  pclass  sex   age  sibsp  parch     fare\n",
              "0         0       3    0  22.0      1      0   7.2500\n",
              "1         1       1    1  38.0      1      0  71.2833\n",
              "2         1       3    1  26.0      0      0   7.9250\n",
              "3         1       1    1  35.0      1      0  53.1000\n",
              "4         0       3    0  35.0      0      0   8.0500"
            ],
            "text/html": [
              "\n",
              "  <div id=\"df-d3c21f25-5696-40f5-ac96-77ea34d2d142\" class=\"colab-df-container\">\n",
              "    <div>\n",
              "<style scoped>\n",
              "    .dataframe tbody tr th:only-of-type {\n",
              "        vertical-align: middle;\n",
              "    }\n",
              "\n",
              "    .dataframe tbody tr th {\n",
              "        vertical-align: top;\n",
              "    }\n",
              "\n",
              "    .dataframe thead th {\n",
              "        text-align: right;\n",
              "    }\n",
              "</style>\n",
              "<table border=\"1\" class=\"dataframe\">\n",
              "  <thead>\n",
              "    <tr style=\"text-align: right;\">\n",
              "      <th></th>\n",
              "      <th>survived</th>\n",
              "      <th>pclass</th>\n",
              "      <th>sex</th>\n",
              "      <th>age</th>\n",
              "      <th>sibsp</th>\n",
              "      <th>parch</th>\n",
              "      <th>fare</th>\n",
              "    </tr>\n",
              "  </thead>\n",
              "  <tbody>\n",
              "    <tr>\n",
              "      <th>0</th>\n",
              "      <td>0</td>\n",
              "      <td>3</td>\n",
              "      <td>0</td>\n",
              "      <td>22.0</td>\n",
              "      <td>1</td>\n",
              "      <td>0</td>\n",
              "      <td>7.2500</td>\n",
              "    </tr>\n",
              "    <tr>\n",
              "      <th>1</th>\n",
              "      <td>1</td>\n",
              "      <td>1</td>\n",
              "      <td>1</td>\n",
              "      <td>38.0</td>\n",
              "      <td>1</td>\n",
              "      <td>0</td>\n",
              "      <td>71.2833</td>\n",
              "    </tr>\n",
              "    <tr>\n",
              "      <th>2</th>\n",
              "      <td>1</td>\n",
              "      <td>3</td>\n",
              "      <td>1</td>\n",
              "      <td>26.0</td>\n",
              "      <td>0</td>\n",
              "      <td>0</td>\n",
              "      <td>7.9250</td>\n",
              "    </tr>\n",
              "    <tr>\n",
              "      <th>3</th>\n",
              "      <td>1</td>\n",
              "      <td>1</td>\n",
              "      <td>1</td>\n",
              "      <td>35.0</td>\n",
              "      <td>1</td>\n",
              "      <td>0</td>\n",
              "      <td>53.1000</td>\n",
              "    </tr>\n",
              "    <tr>\n",
              "      <th>4</th>\n",
              "      <td>0</td>\n",
              "      <td>3</td>\n",
              "      <td>0</td>\n",
              "      <td>35.0</td>\n",
              "      <td>0</td>\n",
              "      <td>0</td>\n",
              "      <td>8.0500</td>\n",
              "    </tr>\n",
              "  </tbody>\n",
              "</table>\n",
              "</div>\n",
              "    <div class=\"colab-df-buttons\">\n",
              "\n",
              "  <div class=\"colab-df-container\">\n",
              "    <button class=\"colab-df-convert\" onclick=\"convertToInteractive('df-d3c21f25-5696-40f5-ac96-77ea34d2d142')\"\n",
              "            title=\"Convert this dataframe to an interactive table.\"\n",
              "            style=\"display:none;\">\n",
              "\n",
              "  <svg xmlns=\"http://www.w3.org/2000/svg\" height=\"24px\" viewBox=\"0 -960 960 960\">\n",
              "    <path d=\"M120-120v-720h720v720H120Zm60-500h600v-160H180v160Zm220 220h160v-160H400v160Zm0 220h160v-160H400v160ZM180-400h160v-160H180v160Zm440 0h160v-160H620v160ZM180-180h160v-160H180v160Zm440 0h160v-160H620v160Z\"/>\n",
              "  </svg>\n",
              "    </button>\n",
              "\n",
              "  <style>\n",
              "    .colab-df-container {\n",
              "      display:flex;\n",
              "      gap: 12px;\n",
              "    }\n",
              "\n",
              "    .colab-df-convert {\n",
              "      background-color: #E8F0FE;\n",
              "      border: none;\n",
              "      border-radius: 50%;\n",
              "      cursor: pointer;\n",
              "      display: none;\n",
              "      fill: #1967D2;\n",
              "      height: 32px;\n",
              "      padding: 0 0 0 0;\n",
              "      width: 32px;\n",
              "    }\n",
              "\n",
              "    .colab-df-convert:hover {\n",
              "      background-color: #E2EBFA;\n",
              "      box-shadow: 0px 1px 2px rgba(60, 64, 67, 0.3), 0px 1px 3px 1px rgba(60, 64, 67, 0.15);\n",
              "      fill: #174EA6;\n",
              "    }\n",
              "\n",
              "    .colab-df-buttons div {\n",
              "      margin-bottom: 4px;\n",
              "    }\n",
              "\n",
              "    [theme=dark] .colab-df-convert {\n",
              "      background-color: #3B4455;\n",
              "      fill: #D2E3FC;\n",
              "    }\n",
              "\n",
              "    [theme=dark] .colab-df-convert:hover {\n",
              "      background-color: #434B5C;\n",
              "      box-shadow: 0px 1px 3px 1px rgba(0, 0, 0, 0.15);\n",
              "      filter: drop-shadow(0px 1px 2px rgba(0, 0, 0, 0.3));\n",
              "      fill: #FFFFFF;\n",
              "    }\n",
              "  </style>\n",
              "\n",
              "    <script>\n",
              "      const buttonEl =\n",
              "        document.querySelector('#df-d3c21f25-5696-40f5-ac96-77ea34d2d142 button.colab-df-convert');\n",
              "      buttonEl.style.display =\n",
              "        google.colab.kernel.accessAllowed ? 'block' : 'none';\n",
              "\n",
              "      async function convertToInteractive(key) {\n",
              "        const element = document.querySelector('#df-d3c21f25-5696-40f5-ac96-77ea34d2d142');\n",
              "        const dataTable =\n",
              "          await google.colab.kernel.invokeFunction('convertToInteractive',\n",
              "                                                    [key], {});\n",
              "        if (!dataTable) return;\n",
              "\n",
              "        const docLinkHtml = 'Like what you see? Visit the ' +\n",
              "          '<a target=\"_blank\" href=https://colab.research.google.com/notebooks/data_table.ipynb>data table notebook</a>'\n",
              "          + ' to learn more about interactive tables.';\n",
              "        element.innerHTML = '';\n",
              "        dataTable['output_type'] = 'display_data';\n",
              "        await google.colab.output.renderOutput(dataTable, element);\n",
              "        const docLink = document.createElement('div');\n",
              "        docLink.innerHTML = docLinkHtml;\n",
              "        element.appendChild(docLink);\n",
              "      }\n",
              "    </script>\n",
              "  </div>\n",
              "\n",
              "\n",
              "<div id=\"df-23e57be4-af87-4fa9-aefb-e06e2f9b5d9e\">\n",
              "  <button class=\"colab-df-quickchart\" onclick=\"quickchart('df-23e57be4-af87-4fa9-aefb-e06e2f9b5d9e')\"\n",
              "            title=\"Suggest charts\"\n",
              "            style=\"display:none;\">\n",
              "\n",
              "<svg xmlns=\"http://www.w3.org/2000/svg\" height=\"24px\"viewBox=\"0 0 24 24\"\n",
              "     width=\"24px\">\n",
              "    <g>\n",
              "        <path d=\"M19 3H5c-1.1 0-2 .9-2 2v14c0 1.1.9 2 2 2h14c1.1 0 2-.9 2-2V5c0-1.1-.9-2-2-2zM9 17H7v-7h2v7zm4 0h-2V7h2v10zm4 0h-2v-4h2v4z\"/>\n",
              "    </g>\n",
              "</svg>\n",
              "  </button>\n",
              "\n",
              "<style>\n",
              "  .colab-df-quickchart {\n",
              "      --bg-color: #E8F0FE;\n",
              "      --fill-color: #1967D2;\n",
              "      --hover-bg-color: #E2EBFA;\n",
              "      --hover-fill-color: #174EA6;\n",
              "      --disabled-fill-color: #AAA;\n",
              "      --disabled-bg-color: #DDD;\n",
              "  }\n",
              "\n",
              "  [theme=dark] .colab-df-quickchart {\n",
              "      --bg-color: #3B4455;\n",
              "      --fill-color: #D2E3FC;\n",
              "      --hover-bg-color: #434B5C;\n",
              "      --hover-fill-color: #FFFFFF;\n",
              "      --disabled-bg-color: #3B4455;\n",
              "      --disabled-fill-color: #666;\n",
              "  }\n",
              "\n",
              "  .colab-df-quickchart {\n",
              "    background-color: var(--bg-color);\n",
              "    border: none;\n",
              "    border-radius: 50%;\n",
              "    cursor: pointer;\n",
              "    display: none;\n",
              "    fill: var(--fill-color);\n",
              "    height: 32px;\n",
              "    padding: 0;\n",
              "    width: 32px;\n",
              "  }\n",
              "\n",
              "  .colab-df-quickchart:hover {\n",
              "    background-color: var(--hover-bg-color);\n",
              "    box-shadow: 0 1px 2px rgba(60, 64, 67, 0.3), 0 1px 3px 1px rgba(60, 64, 67, 0.15);\n",
              "    fill: var(--button-hover-fill-color);\n",
              "  }\n",
              "\n",
              "  .colab-df-quickchart-complete:disabled,\n",
              "  .colab-df-quickchart-complete:disabled:hover {\n",
              "    background-color: var(--disabled-bg-color);\n",
              "    fill: var(--disabled-fill-color);\n",
              "    box-shadow: none;\n",
              "  }\n",
              "\n",
              "  .colab-df-spinner {\n",
              "    border: 2px solid var(--fill-color);\n",
              "    border-color: transparent;\n",
              "    border-bottom-color: var(--fill-color);\n",
              "    animation:\n",
              "      spin 1s steps(1) infinite;\n",
              "  }\n",
              "\n",
              "  @keyframes spin {\n",
              "    0% {\n",
              "      border-color: transparent;\n",
              "      border-bottom-color: var(--fill-color);\n",
              "      border-left-color: var(--fill-color);\n",
              "    }\n",
              "    20% {\n",
              "      border-color: transparent;\n",
              "      border-left-color: var(--fill-color);\n",
              "      border-top-color: var(--fill-color);\n",
              "    }\n",
              "    30% {\n",
              "      border-color: transparent;\n",
              "      border-left-color: var(--fill-color);\n",
              "      border-top-color: var(--fill-color);\n",
              "      border-right-color: var(--fill-color);\n",
              "    }\n",
              "    40% {\n",
              "      border-color: transparent;\n",
              "      border-right-color: var(--fill-color);\n",
              "      border-top-color: var(--fill-color);\n",
              "    }\n",
              "    60% {\n",
              "      border-color: transparent;\n",
              "      border-right-color: var(--fill-color);\n",
              "    }\n",
              "    80% {\n",
              "      border-color: transparent;\n",
              "      border-right-color: var(--fill-color);\n",
              "      border-bottom-color: var(--fill-color);\n",
              "    }\n",
              "    90% {\n",
              "      border-color: transparent;\n",
              "      border-bottom-color: var(--fill-color);\n",
              "    }\n",
              "  }\n",
              "</style>\n",
              "\n",
              "  <script>\n",
              "    async function quickchart(key) {\n",
              "      const quickchartButtonEl =\n",
              "        document.querySelector('#' + key + ' button');\n",
              "      quickchartButtonEl.disabled = true;  // To prevent multiple clicks.\n",
              "      quickchartButtonEl.classList.add('colab-df-spinner');\n",
              "      try {\n",
              "        const charts = await google.colab.kernel.invokeFunction(\n",
              "            'suggestCharts', [key], {});\n",
              "      } catch (error) {\n",
              "        console.error('Error during call to suggestCharts:', error);\n",
              "      }\n",
              "      quickchartButtonEl.classList.remove('colab-df-spinner');\n",
              "      quickchartButtonEl.classList.add('colab-df-quickchart-complete');\n",
              "    }\n",
              "    (() => {\n",
              "      let quickchartButtonEl =\n",
              "        document.querySelector('#df-23e57be4-af87-4fa9-aefb-e06e2f9b5d9e button');\n",
              "      quickchartButtonEl.style.display =\n",
              "        google.colab.kernel.accessAllowed ? 'block' : 'none';\n",
              "    })();\n",
              "  </script>\n",
              "</div>\n",
              "\n",
              "    </div>\n",
              "  </div>\n"
            ],
            "application/vnd.google.colaboratory.intrinsic+json": {
              "type": "dataframe",
              "variable_name": "df",
              "summary": "{\n  \"name\": \"df\",\n  \"rows\": 889,\n  \"fields\": [\n    {\n      \"column\": \"survived\",\n      \"properties\": {\n        \"dtype\": \"number\",\n        \"std\": 0,\n        \"min\": 0,\n        \"max\": 1,\n        \"num_unique_values\": 2,\n        \"samples\": [\n          1,\n          0\n        ],\n        \"semantic_type\": \"\",\n        \"description\": \"\"\n      }\n    },\n    {\n      \"column\": \"pclass\",\n      \"properties\": {\n        \"dtype\": \"number\",\n        \"std\": 0,\n        \"min\": 1,\n        \"max\": 3,\n        \"num_unique_values\": 3,\n        \"samples\": [\n          3,\n          1\n        ],\n        \"semantic_type\": \"\",\n        \"description\": \"\"\n      }\n    },\n    {\n      \"column\": \"sex\",\n      \"properties\": {\n        \"dtype\": \"number\",\n        \"std\": 0,\n        \"min\": 0,\n        \"max\": 1,\n        \"num_unique_values\": 2,\n        \"samples\": [\n          1,\n          0\n        ],\n        \"semantic_type\": \"\",\n        \"description\": \"\"\n      }\n    },\n    {\n      \"column\": \"age\",\n      \"properties\": {\n        \"dtype\": \"number\",\n        \"std\": 12.984932293690775,\n        \"min\": 0.42,\n        \"max\": 80.0,\n        \"num_unique_values\": 88,\n        \"samples\": [\n          0.75,\n          22.0\n        ],\n        \"semantic_type\": \"\",\n        \"description\": \"\"\n      }\n    },\n    {\n      \"column\": \"sibsp\",\n      \"properties\": {\n        \"dtype\": \"number\",\n        \"std\": 1,\n        \"min\": 0,\n        \"max\": 8,\n        \"num_unique_values\": 7,\n        \"samples\": [\n          1,\n          0\n        ],\n        \"semantic_type\": \"\",\n        \"description\": \"\"\n      }\n    },\n    {\n      \"column\": \"parch\",\n      \"properties\": {\n        \"dtype\": \"number\",\n        \"std\": 0,\n        \"min\": 0,\n        \"max\": 6,\n        \"num_unique_values\": 7,\n        \"samples\": [\n          0,\n          1\n        ],\n        \"semantic_type\": \"\",\n        \"description\": \"\"\n      }\n    },\n    {\n      \"column\": \"fare\",\n      \"properties\": {\n        \"dtype\": \"number\",\n        \"std\": 49.697504316707956,\n        \"min\": 0.0,\n        \"max\": 512.3292,\n        \"num_unique_values\": 247,\n        \"samples\": [\n          11.2417,\n          51.8625\n        ],\n        \"semantic_type\": \"\",\n        \"description\": \"\"\n      }\n    }\n  ]\n}"
            }
          },
          "metadata": {},
          "execution_count": 8
        }
      ]
    },
    {
      "cell_type": "markdown",
      "source": [
        "## Padronização"
      ],
      "metadata": {
        "id": "l_atbdX4dK_V"
      }
    },
    {
      "cell_type": "markdown",
      "source": [
        "Padronização é como ajustar todos os números para que eles fiquem em uma mesma escala. Imagine que você tem uma lista de notas de exames e uma lista de alturas. As notas variam de 0 a 10, e as alturas variam de 1,50 a 2,00 metros. Se você comparar essas duas listas diretamente, pode ser confuso, porque as escalas são diferentes."
      ],
      "metadata": {
        "id": "P4ztRPC3diL7"
      }
    },
    {
      "cell_type": "markdown",
      "source": [
        "- Para que padronizar minhas variveis?\n",
        "  - Quando você usa algoritmos para analisar dados (como em modelos de aprendizado de máquina), eles podem funcionar melhor quando todos os números estão na mesma escala. Se um número é muito maior ou menor que outros, pode acabar influenciando mais do que deveria.\n",
        "\n",
        "\n"
      ],
      "metadata": {
        "id": "oZYwE773dOO6"
      }
    },
    {
      "cell_type": "code",
      "source": [
        "from sklearn.preprocessing import StandardScaler\n",
        "\n",
        "# Padronização das colunas numéricas\n",
        "scaler = StandardScaler()\n",
        "df[['age', 'fare']] = scaler.fit_transform(df[['age', 'fare']])"
      ],
      "metadata": {
        "id": "lCx2b2YoduFk"
      },
      "execution_count": null,
      "outputs": []
    },
    {
      "cell_type": "markdown",
      "source": [
        "***OBS: Não se preocubem com Sklearn, a biblioteca será explicada no futro!***"
      ],
      "metadata": {
        "id": "3OXI9vPRdzyc"
      }
    },
    {
      "cell_type": "code",
      "source": [
        "df.head()"
      ],
      "metadata": {
        "colab": {
          "base_uri": "https://localhost:8080/",
          "height": 206
        },
        "id": "7-F9j62fd-bk",
        "outputId": "9d4cf276-2a54-418d-e7ac-e11381fc7ad2"
      },
      "execution_count": null,
      "outputs": [
        {
          "output_type": "execute_result",
          "data": {
            "text/plain": [
              "   survived  pclass  sex       age  sibsp  parch      fare\n",
              "0         0       3    0 -0.563674      1      0 -0.500240\n",
              "1         1       1    1  0.669217      1      0  0.788947\n",
              "2         1       3    1 -0.255451      0      0 -0.486650\n",
              "3         1       1    1  0.438050      1      0  0.422861\n",
              "4         0       3    0  0.438050      0      0 -0.484133"
            ],
            "text/html": [
              "\n",
              "  <div id=\"df-c1e37fcc-ae36-49e2-904a-ef2c55324974\" class=\"colab-df-container\">\n",
              "    <div>\n",
              "<style scoped>\n",
              "    .dataframe tbody tr th:only-of-type {\n",
              "        vertical-align: middle;\n",
              "    }\n",
              "\n",
              "    .dataframe tbody tr th {\n",
              "        vertical-align: top;\n",
              "    }\n",
              "\n",
              "    .dataframe thead th {\n",
              "        text-align: right;\n",
              "    }\n",
              "</style>\n",
              "<table border=\"1\" class=\"dataframe\">\n",
              "  <thead>\n",
              "    <tr style=\"text-align: right;\">\n",
              "      <th></th>\n",
              "      <th>survived</th>\n",
              "      <th>pclass</th>\n",
              "      <th>sex</th>\n",
              "      <th>age</th>\n",
              "      <th>sibsp</th>\n",
              "      <th>parch</th>\n",
              "      <th>fare</th>\n",
              "    </tr>\n",
              "  </thead>\n",
              "  <tbody>\n",
              "    <tr>\n",
              "      <th>0</th>\n",
              "      <td>0</td>\n",
              "      <td>3</td>\n",
              "      <td>0</td>\n",
              "      <td>-0.563674</td>\n",
              "      <td>1</td>\n",
              "      <td>0</td>\n",
              "      <td>-0.500240</td>\n",
              "    </tr>\n",
              "    <tr>\n",
              "      <th>1</th>\n",
              "      <td>1</td>\n",
              "      <td>1</td>\n",
              "      <td>1</td>\n",
              "      <td>0.669217</td>\n",
              "      <td>1</td>\n",
              "      <td>0</td>\n",
              "      <td>0.788947</td>\n",
              "    </tr>\n",
              "    <tr>\n",
              "      <th>2</th>\n",
              "      <td>1</td>\n",
              "      <td>3</td>\n",
              "      <td>1</td>\n",
              "      <td>-0.255451</td>\n",
              "      <td>0</td>\n",
              "      <td>0</td>\n",
              "      <td>-0.486650</td>\n",
              "    </tr>\n",
              "    <tr>\n",
              "      <th>3</th>\n",
              "      <td>1</td>\n",
              "      <td>1</td>\n",
              "      <td>1</td>\n",
              "      <td>0.438050</td>\n",
              "      <td>1</td>\n",
              "      <td>0</td>\n",
              "      <td>0.422861</td>\n",
              "    </tr>\n",
              "    <tr>\n",
              "      <th>4</th>\n",
              "      <td>0</td>\n",
              "      <td>3</td>\n",
              "      <td>0</td>\n",
              "      <td>0.438050</td>\n",
              "      <td>0</td>\n",
              "      <td>0</td>\n",
              "      <td>-0.484133</td>\n",
              "    </tr>\n",
              "  </tbody>\n",
              "</table>\n",
              "</div>\n",
              "    <div class=\"colab-df-buttons\">\n",
              "\n",
              "  <div class=\"colab-df-container\">\n",
              "    <button class=\"colab-df-convert\" onclick=\"convertToInteractive('df-c1e37fcc-ae36-49e2-904a-ef2c55324974')\"\n",
              "            title=\"Convert this dataframe to an interactive table.\"\n",
              "            style=\"display:none;\">\n",
              "\n",
              "  <svg xmlns=\"http://www.w3.org/2000/svg\" height=\"24px\" viewBox=\"0 -960 960 960\">\n",
              "    <path d=\"M120-120v-720h720v720H120Zm60-500h600v-160H180v160Zm220 220h160v-160H400v160Zm0 220h160v-160H400v160ZM180-400h160v-160H180v160Zm440 0h160v-160H620v160ZM180-180h160v-160H180v160Zm440 0h160v-160H620v160Z\"/>\n",
              "  </svg>\n",
              "    </button>\n",
              "\n",
              "  <style>\n",
              "    .colab-df-container {\n",
              "      display:flex;\n",
              "      gap: 12px;\n",
              "    }\n",
              "\n",
              "    .colab-df-convert {\n",
              "      background-color: #E8F0FE;\n",
              "      border: none;\n",
              "      border-radius: 50%;\n",
              "      cursor: pointer;\n",
              "      display: none;\n",
              "      fill: #1967D2;\n",
              "      height: 32px;\n",
              "      padding: 0 0 0 0;\n",
              "      width: 32px;\n",
              "    }\n",
              "\n",
              "    .colab-df-convert:hover {\n",
              "      background-color: #E2EBFA;\n",
              "      box-shadow: 0px 1px 2px rgba(60, 64, 67, 0.3), 0px 1px 3px 1px rgba(60, 64, 67, 0.15);\n",
              "      fill: #174EA6;\n",
              "    }\n",
              "\n",
              "    .colab-df-buttons div {\n",
              "      margin-bottom: 4px;\n",
              "    }\n",
              "\n",
              "    [theme=dark] .colab-df-convert {\n",
              "      background-color: #3B4455;\n",
              "      fill: #D2E3FC;\n",
              "    }\n",
              "\n",
              "    [theme=dark] .colab-df-convert:hover {\n",
              "      background-color: #434B5C;\n",
              "      box-shadow: 0px 1px 3px 1px rgba(0, 0, 0, 0.15);\n",
              "      filter: drop-shadow(0px 1px 2px rgba(0, 0, 0, 0.3));\n",
              "      fill: #FFFFFF;\n",
              "    }\n",
              "  </style>\n",
              "\n",
              "    <script>\n",
              "      const buttonEl =\n",
              "        document.querySelector('#df-c1e37fcc-ae36-49e2-904a-ef2c55324974 button.colab-df-convert');\n",
              "      buttonEl.style.display =\n",
              "        google.colab.kernel.accessAllowed ? 'block' : 'none';\n",
              "\n",
              "      async function convertToInteractive(key) {\n",
              "        const element = document.querySelector('#df-c1e37fcc-ae36-49e2-904a-ef2c55324974');\n",
              "        const dataTable =\n",
              "          await google.colab.kernel.invokeFunction('convertToInteractive',\n",
              "                                                    [key], {});\n",
              "        if (!dataTable) return;\n",
              "\n",
              "        const docLinkHtml = 'Like what you see? Visit the ' +\n",
              "          '<a target=\"_blank\" href=https://colab.research.google.com/notebooks/data_table.ipynb>data table notebook</a>'\n",
              "          + ' to learn more about interactive tables.';\n",
              "        element.innerHTML = '';\n",
              "        dataTable['output_type'] = 'display_data';\n",
              "        await google.colab.output.renderOutput(dataTable, element);\n",
              "        const docLink = document.createElement('div');\n",
              "        docLink.innerHTML = docLinkHtml;\n",
              "        element.appendChild(docLink);\n",
              "      }\n",
              "    </script>\n",
              "  </div>\n",
              "\n",
              "\n",
              "<div id=\"df-e29c167c-43c2-431e-abab-01bc48229e3e\">\n",
              "  <button class=\"colab-df-quickchart\" onclick=\"quickchart('df-e29c167c-43c2-431e-abab-01bc48229e3e')\"\n",
              "            title=\"Suggest charts\"\n",
              "            style=\"display:none;\">\n",
              "\n",
              "<svg xmlns=\"http://www.w3.org/2000/svg\" height=\"24px\"viewBox=\"0 0 24 24\"\n",
              "     width=\"24px\">\n",
              "    <g>\n",
              "        <path d=\"M19 3H5c-1.1 0-2 .9-2 2v14c0 1.1.9 2 2 2h14c1.1 0 2-.9 2-2V5c0-1.1-.9-2-2-2zM9 17H7v-7h2v7zm4 0h-2V7h2v10zm4 0h-2v-4h2v4z\"/>\n",
              "    </g>\n",
              "</svg>\n",
              "  </button>\n",
              "\n",
              "<style>\n",
              "  .colab-df-quickchart {\n",
              "      --bg-color: #E8F0FE;\n",
              "      --fill-color: #1967D2;\n",
              "      --hover-bg-color: #E2EBFA;\n",
              "      --hover-fill-color: #174EA6;\n",
              "      --disabled-fill-color: #AAA;\n",
              "      --disabled-bg-color: #DDD;\n",
              "  }\n",
              "\n",
              "  [theme=dark] .colab-df-quickchart {\n",
              "      --bg-color: #3B4455;\n",
              "      --fill-color: #D2E3FC;\n",
              "      --hover-bg-color: #434B5C;\n",
              "      --hover-fill-color: #FFFFFF;\n",
              "      --disabled-bg-color: #3B4455;\n",
              "      --disabled-fill-color: #666;\n",
              "  }\n",
              "\n",
              "  .colab-df-quickchart {\n",
              "    background-color: var(--bg-color);\n",
              "    border: none;\n",
              "    border-radius: 50%;\n",
              "    cursor: pointer;\n",
              "    display: none;\n",
              "    fill: var(--fill-color);\n",
              "    height: 32px;\n",
              "    padding: 0;\n",
              "    width: 32px;\n",
              "  }\n",
              "\n",
              "  .colab-df-quickchart:hover {\n",
              "    background-color: var(--hover-bg-color);\n",
              "    box-shadow: 0 1px 2px rgba(60, 64, 67, 0.3), 0 1px 3px 1px rgba(60, 64, 67, 0.15);\n",
              "    fill: var(--button-hover-fill-color);\n",
              "  }\n",
              "\n",
              "  .colab-df-quickchart-complete:disabled,\n",
              "  .colab-df-quickchart-complete:disabled:hover {\n",
              "    background-color: var(--disabled-bg-color);\n",
              "    fill: var(--disabled-fill-color);\n",
              "    box-shadow: none;\n",
              "  }\n",
              "\n",
              "  .colab-df-spinner {\n",
              "    border: 2px solid var(--fill-color);\n",
              "    border-color: transparent;\n",
              "    border-bottom-color: var(--fill-color);\n",
              "    animation:\n",
              "      spin 1s steps(1) infinite;\n",
              "  }\n",
              "\n",
              "  @keyframes spin {\n",
              "    0% {\n",
              "      border-color: transparent;\n",
              "      border-bottom-color: var(--fill-color);\n",
              "      border-left-color: var(--fill-color);\n",
              "    }\n",
              "    20% {\n",
              "      border-color: transparent;\n",
              "      border-left-color: var(--fill-color);\n",
              "      border-top-color: var(--fill-color);\n",
              "    }\n",
              "    30% {\n",
              "      border-color: transparent;\n",
              "      border-left-color: var(--fill-color);\n",
              "      border-top-color: var(--fill-color);\n",
              "      border-right-color: var(--fill-color);\n",
              "    }\n",
              "    40% {\n",
              "      border-color: transparent;\n",
              "      border-right-color: var(--fill-color);\n",
              "      border-top-color: var(--fill-color);\n",
              "    }\n",
              "    60% {\n",
              "      border-color: transparent;\n",
              "      border-right-color: var(--fill-color);\n",
              "    }\n",
              "    80% {\n",
              "      border-color: transparent;\n",
              "      border-right-color: var(--fill-color);\n",
              "      border-bottom-color: var(--fill-color);\n",
              "    }\n",
              "    90% {\n",
              "      border-color: transparent;\n",
              "      border-bottom-color: var(--fill-color);\n",
              "    }\n",
              "  }\n",
              "</style>\n",
              "\n",
              "  <script>\n",
              "    async function quickchart(key) {\n",
              "      const quickchartButtonEl =\n",
              "        document.querySelector('#' + key + ' button');\n",
              "      quickchartButtonEl.disabled = true;  // To prevent multiple clicks.\n",
              "      quickchartButtonEl.classList.add('colab-df-spinner');\n",
              "      try {\n",
              "        const charts = await google.colab.kernel.invokeFunction(\n",
              "            'suggestCharts', [key], {});\n",
              "      } catch (error) {\n",
              "        console.error('Error during call to suggestCharts:', error);\n",
              "      }\n",
              "      quickchartButtonEl.classList.remove('colab-df-spinner');\n",
              "      quickchartButtonEl.classList.add('colab-df-quickchart-complete');\n",
              "    }\n",
              "    (() => {\n",
              "      let quickchartButtonEl =\n",
              "        document.querySelector('#df-e29c167c-43c2-431e-abab-01bc48229e3e button');\n",
              "      quickchartButtonEl.style.display =\n",
              "        google.colab.kernel.accessAllowed ? 'block' : 'none';\n",
              "    })();\n",
              "  </script>\n",
              "</div>\n",
              "\n",
              "    </div>\n",
              "  </div>\n"
            ],
            "application/vnd.google.colaboratory.intrinsic+json": {
              "type": "dataframe",
              "variable_name": "df",
              "summary": "{\n  \"name\": \"df\",\n  \"rows\": 889,\n  \"fields\": [\n    {\n      \"column\": \"survived\",\n      \"properties\": {\n        \"dtype\": \"number\",\n        \"std\": 0,\n        \"min\": 0,\n        \"max\": 1,\n        \"num_unique_values\": 2,\n        \"samples\": [\n          1,\n          0\n        ],\n        \"semantic_type\": \"\",\n        \"description\": \"\"\n      }\n    },\n    {\n      \"column\": \"pclass\",\n      \"properties\": {\n        \"dtype\": \"number\",\n        \"std\": 0,\n        \"min\": 1,\n        \"max\": 3,\n        \"num_unique_values\": 3,\n        \"samples\": [\n          3,\n          1\n        ],\n        \"semantic_type\": \"\",\n        \"description\": \"\"\n      }\n    },\n    {\n      \"column\": \"sex\",\n      \"properties\": {\n        \"dtype\": \"number\",\n        \"std\": 0,\n        \"min\": 0,\n        \"max\": 1,\n        \"num_unique_values\": 2,\n        \"samples\": [\n          1,\n          0\n        ],\n        \"semantic_type\": \"\",\n        \"description\": \"\"\n      }\n    },\n    {\n      \"column\": \"age\",\n      \"properties\": {\n        \"dtype\": \"number\",\n        \"std\": 1.0005629046322504,\n        \"min\": -2.2265358353000453,\n        \"max\": 3.905555896077194,\n        \"num_unique_values\": 88,\n        \"samples\": [\n          -2.2011074579269057,\n          -0.5636740664747023\n        ],\n        \"semantic_type\": \"\",\n        \"description\": \"\"\n      }\n    },\n    {\n      \"column\": \"sibsp\",\n      \"properties\": {\n        \"dtype\": \"number\",\n        \"std\": 1,\n        \"min\": 0,\n        \"max\": 8,\n        \"num_unique_values\": 7,\n        \"samples\": [\n          1,\n          0\n        ],\n        \"semantic_type\": \"\",\n        \"description\": \"\"\n      }\n    },\n    {\n      \"column\": \"parch\",\n      \"properties\": {\n        \"dtype\": \"number\",\n        \"std\": 0,\n        \"min\": 0,\n        \"max\": 6,\n        \"num_unique_values\": 7,\n        \"samples\": [\n          0,\n          1\n        ],\n        \"semantic_type\": \"\",\n        \"description\": \"\"\n      }\n    },\n    {\n      \"column\": \"fare\",\n      \"properties\": {\n        \"dtype\": \"number\",\n        \"std\": 1.0005629046322506,\n        \"min\": -0.6462044460638905,\n        \"max\": 9.668550782149426,\n        \"num_unique_values\": 247,\n        \"samples\": [\n          -0.41987460999558585,\n          0.39794644953841574\n        ],\n        \"semantic_type\": \"\",\n        \"description\": \"\"\n      }\n    }\n  ]\n}"
            }
          },
          "metadata": {},
          "execution_count": 10
        }
      ]
    },
    {
      "cell_type": "markdown",
      "source": [
        "# Aula 4/5"
      ],
      "metadata": {
        "id": "gvDTQAUKfBl7"
      }
    },
    {
      "cell_type": "markdown",
      "source": [
        "Foco no desenvolvimento do pré-processamento para textos em tokens."
      ],
      "metadata": {
        "id": "04ENLWgvfDg1"
      }
    },
    {
      "cell_type": "markdown",
      "source": [
        "# Aula 6"
      ],
      "metadata": {
        "id": "V5AgkgSNhc46"
      }
    },
    {
      "cell_type": "markdown",
      "source": [
        "## Visualização dos Dados"
      ],
      "metadata": {
        "id": "m6HIWxLdhoPn"
      }
    },
    {
      "cell_type": "markdown",
      "source": [
        "Biblioteca **MatPlot**:\n",
        "- Utilizada para realização de gráficos e análise de dados"
      ],
      "metadata": {
        "id": "GmNviYNHhuPC"
      }
    },
    {
      "cell_type": "code",
      "source": [
        "import matplotlib.pyplot as plt"
      ],
      "metadata": {
        "id": "kZ0bLsvliXnJ"
      },
      "execution_count": null,
      "outputs": []
    },
    {
      "cell_type": "markdown",
      "source": [
        "Tipos de gráfico:\n",
        "- Barra\n",
        "- Correlçao\n",
        "- Pizza\n",
        "- Linha\n",
        "- Histogramas"
      ],
      "metadata": {
        "id": "z47yzMz5h9xu"
      }
    },
    {
      "cell_type": "markdown",
      "source": [
        "Qual gráfico devo utilizar?"
      ],
      "metadata": {
        "id": "OU_N2dQIiB_I"
      }
    },
    {
      "cell_type": "markdown",
      "source": [
        "### Visualizando colunas pertinentes:"
      ],
      "metadata": {
        "id": "ej5zIGv5iI2I"
      }
    },
    {
      "cell_type": "markdown",
      "source": [
        "# Correlação de Pearson"
      ],
      "metadata": {
        "id": "WKWbNzGsrrvt"
      }
    },
    {
      "cell_type": "markdown",
      "source": [
        "- $1$ indica uma correlação positiva perfeita (quando uma variável aumenta, a outra também aumenta proporcionalmente).\n",
        "- $-1$ indica uma correlação negativa perfeita (quando uma variável aumenta, a outra diminui proporcionalmente)."
      ],
      "metadata": {
        "id": "Rcz9qyugj65s"
      }
    },
    {
      "cell_type": "code",
      "source": [
        "# Calcular a matriz de correlação\n",
        "correlation_matrix = df.corr()\n",
        "\n",
        "# Plotar o heatmap da matriz de correlação\n",
        "plt.figure(figsize=(10, 8))\n",
        "sns.heatmap(correlation_matrix, annot=True, cmap='coolwarm', fmt=\".2f\", linewidths=0.5)\n",
        "plt.title('Matriz de Correlação do Titanic')\n",
        "plt.show()"
      ],
      "metadata": {
        "colab": {
          "base_uri": "https://localhost:8080/",
          "height": 699
        },
        "id": "sm1bfpD2iNMZ",
        "outputId": "3db9ed5a-f77b-4cad-873b-82e1bd2fc7c9"
      },
      "execution_count": null,
      "outputs": [
        {
          "output_type": "display_data",
          "data": {
            "text/plain": [
              "<Figure size 1000x800 with 2 Axes>"
            ],
            "image/png": "[encoded data removed]"
          },
          "metadata": {}
        }
      ]
    },
    {
      "cell_type": "markdown",
      "source": [
        "# Gráfico de pizza"
      ],
      "metadata": {
        "id": "tqKY4az1kwur"
      }
    },
    {
      "cell_type": "code",
      "source": [
        "plt.figure(figsize=(6, 6))\n",
        "plt.pie(df['survived'].value_counts(), labels=['Não Sobreviveu', 'Sobreviveu'], autopct='%1.1f%%', startangle=90, colors=['red', 'green'])\n",
        "plt.title('Distribuição de Sobrevivência')\n",
        "plt.show()"
      ],
      "metadata": {
        "colab": {
          "base_uri": "https://localhost:8080/",
          "height": 521
        },
        "id": "r-CqdiVRj4O8",
        "outputId": "8afb6ade-4543-4b68-99a7-ec5a67de63d2"
      },
      "execution_count": null,
      "outputs": [
        {
          "output_type": "display_data",
          "data": {
            "text/plain": [
              "<Figure size 600x600 with 1 Axes>"
            ],
            "image/png": "[encoded data removed]"
          },
          "metadata": {}
        }
      ]
    },
    {
      "cell_type": "markdown",
      "source": [
        "# Gráfico de Barras"
      ],
      "metadata": {
        "id": "QsJSttIklQnp"
      }
    },
    {
      "cell_type": "code",
      "source": [
        "plt.figure(figsize=(8, 6))\n",
        "sns.barplot(x='pclass', y='survived', data=df, errorbar=None, palette='viridis')\n",
        "plt.title('Taxa de Sobrevivência por Classe')\n",
        "plt.xlabel('Classe')\n",
        "plt.ylabel('Taxa de Sobrevivência')\n",
        "plt.show()"
      ],
      "metadata": {
        "colab": {
          "base_uri": "https://localhost:8080/",
          "height": 672
        },
        "id": "xpx28ltLlWnW",
        "outputId": "7f5ea37b-f8d5-4fba-a7ca-78981a0f1f56"
      },
      "execution_count": null,
      "outputs": [
        {
          "output_type": "stream",
          "name": "stderr",
          "text": [
            "<ipython-input-20-c66756b2de06>:2: FutureWarning: \n",
            "\n",
            "Passing `palette` without assigning `hue` is deprecated and will be removed in v0.14.0. Assign the `x` variable to `hue` and set `legend=False` for the same effect.\n",
            "\n",
            "  sns.barplot(x='pclass', y='survived', data=df, errorbar=None, palette='viridis')\n"
          ]
        },
        {
          "output_type": "display_data",
          "data": {
            "text/plain": [
              "<Figure size 800x600 with 1 Axes>"
            ],
            "image/png": "[encoded data removed]"
          },
          "metadata": {}
        }
      ]
    },
    {
      "cell_type": "code",
      "source": [
        "plt.figure(figsize=(8, 6))\n",
        "sns.countplot(x='pclass', data=df)\n",
        "plt.title('Número de Passageiros por Classe')\n",
        "plt.xlabel('Classe')\n",
        "plt.ylabel('Número de Passageiros')\n",
        "plt.show()"
      ],
      "metadata": {
        "colab": {
          "base_uri": "https://localhost:8080/",
          "height": 565
        },
        "id": "sy-wP_SEmj37",
        "outputId": "26a08a97-b353-4997-fd22-1807b0ba10ba"
      },
      "execution_count": null,
      "outputs": [
        {
          "output_type": "display_data",
          "data": {
            "text/plain": [
              "<Figure size 800x600 with 1 Axes>"
            ],
            "image/png": "[encoded data removed]"
          },
          "metadata": {}
        }
      ]
    },
    {
      "cell_type": "markdown",
      "source": [
        "## Histograma de Idade"
      ],
      "metadata": {
        "id": "tOGw8A86mckC"
      }
    },
    {
      "cell_type": "markdown",
      "source": [
        "Visualização da padronização"
      ],
      "metadata": {
        "id": "dd7ShOqBnaYf"
      }
    },
    {
      "cell_type": "code",
      "source": [
        "plt.figure(figsize=(8, 6))\n",
        "sns.histplot(df['age'], bins=30, kde=True, color='blue')\n",
        "plt.title('Distribuição de Idade dos Passageiros')\n",
        "plt.xlabel('Idade')\n",
        "plt.ylabel('Frequência')\n",
        "plt.show()"
      ],
      "metadata": {
        "colab": {
          "base_uri": "https://localhost:8080/",
          "height": 564
        },
        "id": "ZN3afv4EnOuM",
        "outputId": "f9d8b7e6-87f3-47de-fe0d-e673ed12c649"
      },
      "execution_count": null,
      "outputs": [
        {
          "output_type": "display_data",
          "data": {
            "text/plain": [
              "<Figure size 800x600 with 1 Axes>"
            ],
            "image/png": "[encoded data removed]"
          },
          "metadata": {}
        }
      ]
    },
    {
      "cell_type": "markdown",
      "source": [
        "# Aulas 7\n",
        "\n",
        "Aplicação dos gráficos no Sentiment140"
      ],
      "metadata": {
        "id": "1eKMWh2bpGEu"
      }
    },
    {
      "cell_type": "markdown",
      "source": [
        "# Aula 8"
      ],
      "metadata": {
        "id": "0dkpC-H6pOvf"
      }
    },
    {
      "cell_type": "markdown",
      "source": [
        "## Estatística descritiva"
      ],
      "metadata": {
        "id": "PxHtpdFdpTAM"
      }
    },
    {
      "cell_type": "markdown",
      "source": [
        "Correlação $vs$ Teste de Hipótese"
      ],
      "metadata": {
        "id": "WZNZwhXupVpU"
      }
    },
    {
      "cell_type": "markdown",
      "source": [
        "- **Correlação:** Mede a força e a direção da relação entre duas variáveis numéricas. Não envolve diretamente a decisão de aceitar ou rejeitar uma hipótese.\n",
        "\n",
        "- **Teste de Hipóteses:** É um procedimento formal para decidir entre duas hipóteses baseadas em dados, geralmente envolvendo um cálculo de p-valor e uma regra de decisão."
      ],
      "metadata": {
        "id": "3RghEfzosm09"
      }
    },
    {
      "cell_type": "markdown",
      "source": [
        "### Teste de Hipotese"
      ],
      "metadata": {
        "id": "1q0aixLztVsR"
      }
    },
    {
      "cell_type": "markdown",
      "source": [
        "**O teste de hipóteses** é um procedimento estatístico que envolve a formulação de uma **hipótese nula (H₀)** e uma **hipótese alternativa (H₁)**, seguido de uma análise para determinar se os dados fornecem evidências suficientes para rejeitar a hipótese nula."
      ],
      "metadata": {
        "id": "n53tLtv9s3bM"
      }
    },
    {
      "cell_type": "markdown",
      "source": [
        "*Exemplo:*\n",
        "- **Hipótese nula (H₀):** A classe (class) não tem relação com a sobrevivência (survived). Ou seja, as variáveis são independentes.\n",
        "- **Hipótese alternativa (H₁):** A classe (class) tem relação com a sobrevivência (survived). Ou seja, as variáveis são dependentes."
      ],
      "metadata": {
        "id": "qOt0zsC_tcps"
      }
    },
    {
      "cell_type": "markdown",
      "source": [
        "Para resolver problemas como este, usamos **Padronização** e **regras de decisão**."
      ],
      "metadata": {
        "id": "3adfkmO6t0jD"
      }
    },
    {
      "cell_type": "markdown",
      "source": [
        "Teste Qui-Quadrados:\n",
        "\n",
        "É usado para testar a associação entre duas variáveis categóricas ou para testar a conformidade dos dados com uma distribuição esperada. Por exemplo, testar se a coluna classe do bilhete(1, 2, 3) tem relação com a sobrevivência."
      ],
      "metadata": {
        "id": "b2d5bTEeukPG"
      }
    },
    {
      "cell_type": "markdown",
      "source": [
        "Para isso devemos criar uma **tabela de contingência**, que consiste e enumerar a quantidade de uma coluna em relação a outra:\n",
        "\n"
      ],
      "metadata": {
        "id": "ojvPJqjivsEt"
      }
    },
    {
      "cell_type": "markdown",
      "source": [
        "![image.png](data:image/png;base64,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)"
      ],
      "metadata": {
        "id": "BV_38BOowqsa"
      }
    },
    {
      "cell_type": "code",
      "source": [
        "import pandas as pd\n",
        "from scipy.stats import chi2_contingency\n",
        "\n",
        "# tabela de contingência\n",
        "contingency_table = pd.crosstab(df['class'], df['survived'])\n",
        "\n",
        "print(\"Tabela de Contingência:\")\n",
        "print(contingency_table)\n",
        "\n",
        "# teste Qui-Quadrado\n",
        "chi2_stat, p_value, dof, expected = chi2_contingency(contingency_table)\n",
        "\n",
        "print(\"\\nResultado do Teste Qui-Quadrado:\")\n",
        "print(f\"Estatística Qui-Quadrado: {chi2_stat}\")\n",
        "print(f\"P-valor: {p_value}\")\n",
        "print(f\"Graus de Liberdade: {dof}\")\n",
        "print(f\"Valores Esperados:\\n{expected}\")\n",
        "\n",
        "# Interpretando o p-valor\n",
        "alpha = 0.05\n",
        "if p_value < alpha:\n",
        "    print(\"\\nRejeitamos a hipótese nula. Existe uma associação significativa entre 'class' e 'survived'.\")\n",
        "else:\n",
        "    print(\"\\nNão rejeitamos a hipótese nula. Não há evidência suficiente para afirmar que 'class' e 'survived' estão associados.\")\n"
      ],
      "metadata": {
        "colab": {
          "base_uri": "https://localhost:8080/"
        },
        "id": "BanTH2Z8vXLW",
        "outputId": "298f5e70-e184-480c-8dcd-ad121dbdba1a"
      },
      "execution_count": null,
      "outputs": [
        {
          "output_type": "stream",
          "name": "stdout",
          "text": [
            "Tabela de Contingência:\n",
            "survived    0    1\n",
            "class             \n",
            "First      80  136\n",
            "Second     97   87\n",
            "Third     372  119\n",
            "\n",
            "Resultado do Teste Qui-Quadrado:\n",
            "Estatística Qui-Quadrado: 102.88898875696056\n",
            "P-valor: 4.549251711298793e-23\n",
            "Graus de Liberdade: 2\n",
            "Valores Esperados:\n",
            "[[133.09090909  82.90909091]\n",
            " [113.37373737  70.62626263]\n",
            " [302.53535354 188.46464646]]\n",
            "\n",
            "Rejeitamos a hipótese nula. Existe uma associação significativa entre 'class' e 'survived'.\n"
          ]
        }
      ]
    },
    {
      "cell_type": "markdown",
      "source": [
        "# Aulas 10-15\n",
        "\n",
        "Apresentar a modelagem de dados atrvez de slides e o Notebook príncipal"
      ],
      "metadata": {
        "id": "LLwf38v4xzGI"
      }
    }
  ]
}